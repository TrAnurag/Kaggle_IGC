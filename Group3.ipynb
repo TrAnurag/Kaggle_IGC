{
 "cells": [
  {
   "cell_type": "markdown",
   "id": "ed792108",
   "metadata": {},
   "source": [
    "##  Bike-Rental-Demand-Perdiction\n"
   ]
  },
  {
   "cell_type": "markdown",
   "id": "07a35f97",
   "metadata": {},
   "source": [
    "### Description:\n",
    "\n",
    "Prediction of the number of bicycles rented in an hour of a day in the Seoul Bike Sharing System based on different weather conditions and holiday information in Seoul from 1/12/2017 to 30/11/2018\n",
    "\n",
    "### Group members:\n",
    "\n",
    "Mohammad Ahmadi, Zachary Huntley, Anurag Singh\n",
    "\n",
    "### Dataset Description:\n",
    "\n",
    "The dataset was downloaded from the https://archive-beta.ics.uci.edu/ website, which provides datasets for educational purposes. The dataset contains the number of bicycles rented per hour for each day from 1.12.2017 to 31.11.2018. The weather conditions for each hour are also specified in terms of Temperature (°C), Humidity (%), Wind speed (m/s), Visibility (10m), Dew point temperature (°C), Solar Radiation (MJ/m2), Rainfall (mm), Snowfall (cm), and Seasons. Holidays are specified for each day. As there were some days during which the Seoul Bike Sharing System was unable to provide service and no vehicle was rented, these days are shown in the Functioning Days column.\n",
    "\n",
    "\n",
    "### Project Summary:\n",
    "Seoul's bike sharing system, known as Ddareungi or Seoul Bike in English, was established in 2015 with 150 stations and 1500 bikes. Since then, the system has steadily expanded to cover new districts, and as of July 2016, there were approximately 300 stations and 3000 bikes available.\n",
    "\n",
    "One of the biggest obstacles to the success of bike sharing systems is cost. The high cost of maintaining and renewing bicycles can lead to high rental costs for customers or a large budget for municipalities, which can hinder the popularity of such an environmentally-friendly system in cities. Additionally, inaccessibility is another challenge faced by users in cities with bike sharing systems, as stations may not have enough bicycles to meet demand during certain hours, which can negatively impact the popularity of the system.\n",
    "\n",
    "Bike sharing systems allow users to rent a bike from one station and return it to another station or simply leave it anywhere they please. In order to ensure that the system functions smoothly, providers must facilitate the relocation of abandoned bicycles to stations, which requires costly infrastructure and human resources. Predicting the number of bicycles needed can help to minimize the cost of relocations.\n",
    "\n",
    "Furthermore, minimizing the number of bicycles stored in stations can protect the vehicles from different weather conditions and reduce maintenance costs, which can increase their lifespan and generate revenue for the system. Ultimately, accurately predicting the number of bicycles needed on an hourly basis each day can help the system balance supply and demand, leading to better service for customers.\n",
    "\n",
    "As weather conditions play an important role in bike usage, this project surveys the forecasting of the number of bicycles needed each hour based on weather patterns.\n",
    " \n",
    "### Methodology:\n",
    "\n",
    "Linear and non linear regression including Linear Regressor, Random Forest Regressor, Gradient Boosting Regressor, Decision Tree Regressor\n",
    "\n",
    "#### Data Description:\n",
    "\n",
    "- Date : DD/MM/YYY\n",
    "- Rented_Bike_Count: the total number of rented bike for each hour\n",
    "- Hour: hour of the day\n",
    "- Temperature(°C): temperature measured in Celsius(°C)\n",
    "- Humidity(%): humidity in percent \n",
    "- Wind_speed(m/s): the speed of winf in m/s\n",
    "- Visibility_(10m): measure of the transparency of the surrounding air\n",
    "- Dewpoint_temperature(°C): dew point is the temperature to which air must be cooled to become saturated with water vapor in Celsius\n",
    "- Solar_Radiation_(MJ/m2):  MJ/m2\n",
    "- Rainfall(mm): in millimeter \n",
    "- Snowfall(cm): in centimeter \n",
    "- Seasons: Spring, Summer, Autumn,  Winter\n",
    "- Holiday: Holiday or No holiday\n",
    "- Functioning_Day: it shows that if the system were working or not. Yes or No\n",
    "\n",
    "#### Libraries: \n",
    "\n",
    "Pandas, NumPy, Matplotlib, seaborn, Scikit Learn\n",
    "\n",
    "#### Step to follow:\n",
    "Data preparation\n",
    "\n",
    "Visualization and Feature Engineering\n",
    "\n",
    "Modeling and Evaluation\n",
    "\n",
    "HyperParameter Tuning"
   ]
  },
  {
   "cell_type": "markdown",
   "id": "b6e365fb",
   "metadata": {},
   "source": [
    "## libraries\n"
   ]
  },
  {
   "cell_type": "markdown",
   "id": "78bd0ef2",
   "metadata": {},
   "source": [
    "### Iporting neccesary libraries"
   ]
  },
  {
   "cell_type": "code",
   "execution_count": 1,
   "id": "08f5ffea",
   "metadata": {},
   "outputs": [],
   "source": [
    "import pandas as pd\n",
    "import numpy as np     \n",
    "from matplotlib import pyplot as plt \n",
    "%matplotlib inline\n",
    "import seaborn as sns\n",
    "\n",
    "from sklearn.model_selection import train_test_split\n",
    "from sklearn import preprocessing, linear_model\n",
    "from sklearn.preprocessing import StandardScaler, MinMaxScaler, RobustScaler \n",
    "from sklearn.metrics import r2_score, mean_squared_error, accuracy_score\n",
    "from sklearn.linear_model import LinearRegression\n",
    "from sklearn.neighbors import KNeighborsRegressor\n",
    "from sklearn.tree import DecisionTreeRegressor\n",
    "from sklearn.ensemble import RandomForestRegressor, GradientBoostingRegressor\n",
    "\n",
    "\n",
    "import warnings\n",
    "warnings.filterwarnings('ignore')\n"
   ]
  },
  {
   "cell_type": "markdown",
   "id": "2abe9719",
   "metadata": {},
   "source": [
    "### A brief explanation of libraries\n"
   ]
  },
  {
   "cell_type": "markdown",
   "id": "884cd2f6",
   "metadata": {},
   "source": [
    "- NumPy: A library that provides support for large, multi-dimensional arrays and matrices.\n",
    "\n",
    "\n",
    "- Pandas: An open-source library used for analyzing and manipulating data, including data cleaning and exploration.\n",
    "\n",
    "\n",
    "- Seaborn: A visualization library used for creating statistical graphics plots based on matplotlib.\n",
    "\n",
    "\n",
    "- Matplotlib: A comprehensive library used for creating static, animated, and interactive visualizations.\n",
    "\n",
    "\n",
    "- %matplotlib inline: A line-oriented magic command that makes the output of plotting commands displayed directly below the code cell that produced it.\n",
    "\n",
    "\n",
    "- Pyplot: A collection of functions used to make matplotlib work like MATLAB.\n",
    "\n",
    "\n",
    "- Scikit-learn (sklearn): A simple and efficient library used for predictive data analysis. Built on NumPy, SciPy, and Matplotlib.\n",
    "\n",
    "\n",
    "- Linear_model: A package from Scikit-learn used to fit a linear model with coefficients w = (w1, …, wp) to minimize the residual sum of squares between the observed targets in the dataset and the targets predicted by the linear approximation.\n",
    "\n",
    "\n",
    "- Scikit-learn.ensemble: A package from Scikit-learn used to combine the predictions of several base estimators built with a given learning algorithm in order to improve generalizability or robustness over a single estimator.\n",
    "\n",
    "\n",
    "- Scikit-learn.metrics: The Scikit-learn.metrics module includes score functions, performance metrics, pairwise metrics, and distance computations.\n",
    "\n",
    "\n",
    "- Scikit-learn.preprocessing: The Scikit-learn.preprocessing package provides several common utility functions and transformer classes to change raw feature vectors into a representation that is more suitable for the downstream estimators.\n",
    "\n",
    "\n",
    "- SVM, KNeighborsRegressor, RandomForestRegressor, ExtraTreesRegressor, GradientBoostingRegressor, DecisionTreeRegressor, Ridge, Lasso, LinearRegression, and LogisticRegression are different methods for prediction that we used from Scikit-learn libraries."
   ]
  },
  {
   "cell_type": "markdown",
   "id": "a78df3bc",
   "metadata": {},
   "source": [
    "## Loading the dataset"
   ]
  },
  {
   "cell_type": "code",
   "execution_count": 2,
   "id": "fdce677c",
   "metadata": {},
   "outputs": [],
   "source": [
    "#import the csv file\n",
    "df = pd.read_csv('Bike.csv', encoding= 'unicode_escape')"
   ]
  },
  {
   "cell_type": "markdown",
   "id": "d2d1310d",
   "metadata": {},
   "source": [
    "## Exploratory Data Analysis"
   ]
  },
  {
   "cell_type": "markdown",
   "id": "d18e8004",
   "metadata": {},
   "source": [
    "### Shape of the dataset"
   ]
  },
  {
   "cell_type": "code",
   "execution_count": 3,
   "id": "35c6e311",
   "metadata": {},
   "outputs": [
    {
     "data": {
      "text/plain": [
       "(8760, 14)"
      ]
     },
     "execution_count": 3,
     "metadata": {},
     "output_type": "execute_result"
    }
   ],
   "source": [
    "df.shape"
   ]
  },
  {
   "cell_type": "markdown",
   "id": "78eb7b75",
   "metadata": {},
   "source": [
    "- The dataset contains 8760 rows and 14 columns"
   ]
  },
  {
   "cell_type": "markdown",
   "id": "b66376d1",
   "metadata": {},
   "source": [
    "### Dataset Sapmle"
   ]
  },
  {
   "cell_type": "code",
   "execution_count": 4,
   "id": "d891975a",
   "metadata": {},
   "outputs": [
    {
     "data": {
      "text/html": [
       "<div>\n",
       "<style scoped>\n",
       "    .dataframe tbody tr th:only-of-type {\n",
       "        vertical-align: middle;\n",
       "    }\n",
       "\n",
       "    .dataframe tbody tr th {\n",
       "        vertical-align: top;\n",
       "    }\n",
       "\n",
       "    .dataframe thead th {\n",
       "        text-align: right;\n",
       "    }\n",
       "</style>\n",
       "<table border=\"1\" class=\"dataframe\">\n",
       "  <thead>\n",
       "    <tr style=\"text-align: right;\">\n",
       "      <th></th>\n",
       "      <th>Date</th>\n",
       "      <th>Rented_Bike_Count</th>\n",
       "      <th>Hour</th>\n",
       "      <th>Temperature(°C)</th>\n",
       "      <th>Humidity(%)</th>\n",
       "      <th>Wind_speed(m/s)</th>\n",
       "      <th>Visibility_(10m)</th>\n",
       "      <th>Dewpoint_temperature(°C)</th>\n",
       "      <th>Solar_Radiation_(MJ/m2)</th>\n",
       "      <th>Rainfall(mm)</th>\n",
       "      <th>Snowfall(cm)</th>\n",
       "      <th>Seasons</th>\n",
       "      <th>Holiday</th>\n",
       "      <th>Functioning_Day</th>\n",
       "    </tr>\n",
       "  </thead>\n",
       "  <tbody>\n",
       "    <tr>\n",
       "      <th>0</th>\n",
       "      <td>01/12/2017</td>\n",
       "      <td>254</td>\n",
       "      <td>0</td>\n",
       "      <td>-5.2</td>\n",
       "      <td>37</td>\n",
       "      <td>2.2</td>\n",
       "      <td>2000</td>\n",
       "      <td>-17.6</td>\n",
       "      <td>0.0</td>\n",
       "      <td>0.0</td>\n",
       "      <td>0.0</td>\n",
       "      <td>Winter</td>\n",
       "      <td>No Holiday</td>\n",
       "      <td>Yes</td>\n",
       "    </tr>\n",
       "    <tr>\n",
       "      <th>1</th>\n",
       "      <td>01/12/2017</td>\n",
       "      <td>204</td>\n",
       "      <td>1</td>\n",
       "      <td>-5.5</td>\n",
       "      <td>38</td>\n",
       "      <td>0.8</td>\n",
       "      <td>2000</td>\n",
       "      <td>-17.6</td>\n",
       "      <td>0.0</td>\n",
       "      <td>0.0</td>\n",
       "      <td>0.0</td>\n",
       "      <td>Winter</td>\n",
       "      <td>No Holiday</td>\n",
       "      <td>Yes</td>\n",
       "    </tr>\n",
       "    <tr>\n",
       "      <th>2</th>\n",
       "      <td>01/12/2017</td>\n",
       "      <td>173</td>\n",
       "      <td>2</td>\n",
       "      <td>-6.0</td>\n",
       "      <td>39</td>\n",
       "      <td>1.0</td>\n",
       "      <td>2000</td>\n",
       "      <td>-17.7</td>\n",
       "      <td>0.0</td>\n",
       "      <td>0.0</td>\n",
       "      <td>0.0</td>\n",
       "      <td>Winter</td>\n",
       "      <td>No Holiday</td>\n",
       "      <td>Yes</td>\n",
       "    </tr>\n",
       "    <tr>\n",
       "      <th>3</th>\n",
       "      <td>01/12/2017</td>\n",
       "      <td>107</td>\n",
       "      <td>3</td>\n",
       "      <td>-6.2</td>\n",
       "      <td>40</td>\n",
       "      <td>0.9</td>\n",
       "      <td>2000</td>\n",
       "      <td>-17.6</td>\n",
       "      <td>0.0</td>\n",
       "      <td>0.0</td>\n",
       "      <td>0.0</td>\n",
       "      <td>Winter</td>\n",
       "      <td>No Holiday</td>\n",
       "      <td>Yes</td>\n",
       "    </tr>\n",
       "    <tr>\n",
       "      <th>4</th>\n",
       "      <td>01/12/2017</td>\n",
       "      <td>78</td>\n",
       "      <td>4</td>\n",
       "      <td>-6.0</td>\n",
       "      <td>36</td>\n",
       "      <td>2.3</td>\n",
       "      <td>2000</td>\n",
       "      <td>-18.6</td>\n",
       "      <td>0.0</td>\n",
       "      <td>0.0</td>\n",
       "      <td>0.0</td>\n",
       "      <td>Winter</td>\n",
       "      <td>No Holiday</td>\n",
       "      <td>Yes</td>\n",
       "    </tr>\n",
       "  </tbody>\n",
       "</table>\n",
       "</div>"
      ],
      "text/plain": [
       "         Date  Rented_Bike_Count  Hour  Temperature(°C)  Humidity(%)  \\\n",
       "0  01/12/2017                254     0             -5.2           37   \n",
       "1  01/12/2017                204     1             -5.5           38   \n",
       "2  01/12/2017                173     2             -6.0           39   \n",
       "3  01/12/2017                107     3             -6.2           40   \n",
       "4  01/12/2017                 78     4             -6.0           36   \n",
       "\n",
       "   Wind_speed(m/s)  Visibility_(10m)  Dewpoint_temperature(°C)  \\\n",
       "0              2.2              2000                     -17.6   \n",
       "1              0.8              2000                     -17.6   \n",
       "2              1.0              2000                     -17.7   \n",
       "3              0.9              2000                     -17.6   \n",
       "4              2.3              2000                     -18.6   \n",
       "\n",
       "   Solar_Radiation_(MJ/m2)  Rainfall(mm)  Snowfall(cm) Seasons     Holiday  \\\n",
       "0                      0.0           0.0           0.0  Winter  No Holiday   \n",
       "1                      0.0           0.0           0.0  Winter  No Holiday   \n",
       "2                      0.0           0.0           0.0  Winter  No Holiday   \n",
       "3                      0.0           0.0           0.0  Winter  No Holiday   \n",
       "4                      0.0           0.0           0.0  Winter  No Holiday   \n",
       "\n",
       "  Functioning_Day  \n",
       "0             Yes  \n",
       "1             Yes  \n",
       "2             Yes  \n",
       "3             Yes  \n",
       "4             Yes  "
      ]
     },
     "execution_count": 4,
     "metadata": {},
     "output_type": "execute_result"
    }
   ],
   "source": [
    "df.head()"
   ]
  },
  {
   "cell_type": "markdown",
   "id": "c65334f5",
   "metadata": {},
   "source": [
    "- First 5 rows of our dataset are shown above"
   ]
  },
  {
   "cell_type": "code",
   "execution_count": 5,
   "id": "34dda8eb",
   "metadata": {},
   "outputs": [
    {
     "data": {
      "text/html": [
       "<div>\n",
       "<style scoped>\n",
       "    .dataframe tbody tr th:only-of-type {\n",
       "        vertical-align: middle;\n",
       "    }\n",
       "\n",
       "    .dataframe tbody tr th {\n",
       "        vertical-align: top;\n",
       "    }\n",
       "\n",
       "    .dataframe thead th {\n",
       "        text-align: right;\n",
       "    }\n",
       "</style>\n",
       "<table border=\"1\" class=\"dataframe\">\n",
       "  <thead>\n",
       "    <tr style=\"text-align: right;\">\n",
       "      <th></th>\n",
       "      <th>Date</th>\n",
       "      <th>Rented_Bike_Count</th>\n",
       "      <th>Hour</th>\n",
       "      <th>Temperature(°C)</th>\n",
       "      <th>Humidity(%)</th>\n",
       "      <th>Wind_speed(m/s)</th>\n",
       "      <th>Visibility_(10m)</th>\n",
       "      <th>Dewpoint_temperature(°C)</th>\n",
       "      <th>Solar_Radiation_(MJ/m2)</th>\n",
       "      <th>Rainfall(mm)</th>\n",
       "      <th>Snowfall(cm)</th>\n",
       "      <th>Seasons</th>\n",
       "      <th>Holiday</th>\n",
       "      <th>Functioning_Day</th>\n",
       "    </tr>\n",
       "  </thead>\n",
       "  <tbody>\n",
       "    <tr>\n",
       "      <th>8755</th>\n",
       "      <td>30/11/2018</td>\n",
       "      <td>1003</td>\n",
       "      <td>19</td>\n",
       "      <td>4.2</td>\n",
       "      <td>34</td>\n",
       "      <td>2.6</td>\n",
       "      <td>1894</td>\n",
       "      <td>-10.3</td>\n",
       "      <td>0.0</td>\n",
       "      <td>0.0</td>\n",
       "      <td>0.0</td>\n",
       "      <td>Autumn</td>\n",
       "      <td>No Holiday</td>\n",
       "      <td>Yes</td>\n",
       "    </tr>\n",
       "    <tr>\n",
       "      <th>8756</th>\n",
       "      <td>30/11/2018</td>\n",
       "      <td>764</td>\n",
       "      <td>20</td>\n",
       "      <td>3.4</td>\n",
       "      <td>37</td>\n",
       "      <td>2.3</td>\n",
       "      <td>2000</td>\n",
       "      <td>-9.9</td>\n",
       "      <td>0.0</td>\n",
       "      <td>0.0</td>\n",
       "      <td>0.0</td>\n",
       "      <td>Autumn</td>\n",
       "      <td>No Holiday</td>\n",
       "      <td>Yes</td>\n",
       "    </tr>\n",
       "    <tr>\n",
       "      <th>8757</th>\n",
       "      <td>30/11/2018</td>\n",
       "      <td>694</td>\n",
       "      <td>21</td>\n",
       "      <td>2.6</td>\n",
       "      <td>39</td>\n",
       "      <td>0.3</td>\n",
       "      <td>1968</td>\n",
       "      <td>-9.9</td>\n",
       "      <td>0.0</td>\n",
       "      <td>0.0</td>\n",
       "      <td>0.0</td>\n",
       "      <td>Autumn</td>\n",
       "      <td>No Holiday</td>\n",
       "      <td>Yes</td>\n",
       "    </tr>\n",
       "    <tr>\n",
       "      <th>8758</th>\n",
       "      <td>30/11/2018</td>\n",
       "      <td>712</td>\n",
       "      <td>22</td>\n",
       "      <td>2.1</td>\n",
       "      <td>41</td>\n",
       "      <td>1.0</td>\n",
       "      <td>1859</td>\n",
       "      <td>-9.8</td>\n",
       "      <td>0.0</td>\n",
       "      <td>0.0</td>\n",
       "      <td>0.0</td>\n",
       "      <td>Autumn</td>\n",
       "      <td>No Holiday</td>\n",
       "      <td>Yes</td>\n",
       "    </tr>\n",
       "    <tr>\n",
       "      <th>8759</th>\n",
       "      <td>30/11/2018</td>\n",
       "      <td>584</td>\n",
       "      <td>23</td>\n",
       "      <td>1.9</td>\n",
       "      <td>43</td>\n",
       "      <td>1.3</td>\n",
       "      <td>1909</td>\n",
       "      <td>-9.3</td>\n",
       "      <td>0.0</td>\n",
       "      <td>0.0</td>\n",
       "      <td>0.0</td>\n",
       "      <td>Autumn</td>\n",
       "      <td>No Holiday</td>\n",
       "      <td>Yes</td>\n",
       "    </tr>\n",
       "  </tbody>\n",
       "</table>\n",
       "</div>"
      ],
      "text/plain": [
       "            Date  Rented_Bike_Count  Hour  Temperature(°C)  Humidity(%)  \\\n",
       "8755  30/11/2018               1003    19              4.2           34   \n",
       "8756  30/11/2018                764    20              3.4           37   \n",
       "8757  30/11/2018                694    21              2.6           39   \n",
       "8758  30/11/2018                712    22              2.1           41   \n",
       "8759  30/11/2018                584    23              1.9           43   \n",
       "\n",
       "      Wind_speed(m/s)  Visibility_(10m)  Dewpoint_temperature(°C)  \\\n",
       "8755              2.6              1894                     -10.3   \n",
       "8756              2.3              2000                      -9.9   \n",
       "8757              0.3              1968                      -9.9   \n",
       "8758              1.0              1859                      -9.8   \n",
       "8759              1.3              1909                      -9.3   \n",
       "\n",
       "      Solar_Radiation_(MJ/m2)  Rainfall(mm)  Snowfall(cm) Seasons     Holiday  \\\n",
       "8755                      0.0           0.0           0.0  Autumn  No Holiday   \n",
       "8756                      0.0           0.0           0.0  Autumn  No Holiday   \n",
       "8757                      0.0           0.0           0.0  Autumn  No Holiday   \n",
       "8758                      0.0           0.0           0.0  Autumn  No Holiday   \n",
       "8759                      0.0           0.0           0.0  Autumn  No Holiday   \n",
       "\n",
       "     Functioning_Day  \n",
       "8755             Yes  \n",
       "8756             Yes  \n",
       "8757             Yes  \n",
       "8758             Yes  \n",
       "8759             Yes  "
      ]
     },
     "execution_count": 5,
     "metadata": {},
     "output_type": "execute_result"
    }
   ],
   "source": [
    "df.tail()"
   ]
  },
  {
   "cell_type": "markdown",
   "id": "93b89fa8",
   "metadata": {},
   "source": [
    "- Last 5 rows of our dataset are shown above"
   ]
  },
  {
   "cell_type": "markdown",
   "id": "5c019821",
   "metadata": {},
   "source": [
    "### Data types"
   ]
  },
  {
   "cell_type": "code",
   "execution_count": 6,
   "id": "651d9198",
   "metadata": {},
   "outputs": [
    {
     "data": {
      "text/plain": [
       "Date                         object\n",
       "Rented_Bike_Count             int64\n",
       "Hour                          int64\n",
       "Temperature(°C)             float64\n",
       "Humidity(%)                   int64\n",
       "Wind_speed(m/s)             float64\n",
       "Visibility_(10m)              int64\n",
       "Dewpoint_temperature(°C)    float64\n",
       "Solar_Radiation_(MJ/m2)     float64\n",
       "Rainfall(mm)                float64\n",
       "Snowfall(cm)                float64\n",
       "Seasons                      object\n",
       "Holiday                      object\n",
       "Functioning_Day              object\n",
       "dtype: object"
      ]
     },
     "execution_count": 6,
     "metadata": {},
     "output_type": "execute_result"
    }
   ],
   "source": [
    "df.dtypes"
   ]
  },
  {
   "cell_type": "markdown",
   "id": "46300c1d",
   "metadata": {},
   "source": [
    "- The type of each column is as above table. Date is currently an object and should be changed to date type. Holiday, Seasons, and Functioning_day are our categorical features that can be changed to category type."
   ]
  },
  {
   "cell_type": "markdown",
   "id": "f836dfec",
   "metadata": {},
   "source": [
    "### Detailed information about dataset"
   ]
  },
  {
   "cell_type": "code",
   "execution_count": 7,
   "id": "7e71e242",
   "metadata": {},
   "outputs": [
    {
     "name": "stdout",
     "output_type": "stream",
     "text": [
      "<class 'pandas.core.frame.DataFrame'>\n",
      "RangeIndex: 8760 entries, 0 to 8759\n",
      "Data columns (total 14 columns):\n",
      " #   Column                    Non-Null Count  Dtype  \n",
      "---  ------                    --------------  -----  \n",
      " 0   Date                      8760 non-null   object \n",
      " 1   Rented_Bike_Count         8760 non-null   int64  \n",
      " 2   Hour                      8760 non-null   int64  \n",
      " 3   Temperature(°C)           8760 non-null   float64\n",
      " 4   Humidity(%)               8760 non-null   int64  \n",
      " 5   Wind_speed(m/s)           8760 non-null   float64\n",
      " 6   Visibility_(10m)          8760 non-null   int64  \n",
      " 7   Dewpoint_temperature(°C)  8760 non-null   float64\n",
      " 8   Solar_Radiation_(MJ/m2)   8760 non-null   float64\n",
      " 9   Rainfall(mm)              8760 non-null   float64\n",
      " 10  Snowfall(cm)              8760 non-null   float64\n",
      " 11  Seasons                   8760 non-null   object \n",
      " 12  Holiday                   8760 non-null   object \n",
      " 13  Functioning_Day           8760 non-null   object \n",
      "dtypes: float64(6), int64(4), object(4)\n",
      "memory usage: 958.2+ KB\n"
     ]
    }
   ],
   "source": [
    "df.info()"
   ]
  },
  {
   "cell_type": "markdown",
   "id": "0155c098",
   "metadata": {},
   "source": [
    "- It shows that the index ranges from 0 to 8759 rows, with a total of 14 columns. There are no null values in the mentioned columns of the data, and the memory used for the dataset is 958.2 KB. "
   ]
  },
  {
   "cell_type": "markdown",
   "id": "f3e84baa",
   "metadata": {},
   "source": [
    "### Unique values"
   ]
  },
  {
   "cell_type": "code",
   "execution_count": 8,
   "id": "8918a7d6",
   "metadata": {},
   "outputs": [
    {
     "data": {
      "text/plain": [
       "Date                         365\n",
       "Rented_Bike_Count           2166\n",
       "Hour                          24\n",
       "Temperature(°C)              546\n",
       "Humidity(%)                   90\n",
       "Wind_speed(m/s)               65\n",
       "Visibility_(10m)            1789\n",
       "Dewpoint_temperature(°C)     556\n",
       "Solar_Radiation_(MJ/m2)      345\n",
       "Rainfall(mm)                  61\n",
       "Snowfall(cm)                  51\n",
       "Seasons                        4\n",
       "Holiday                        2\n",
       "Functioning_Day                2\n",
       "dtype: int64"
      ]
     },
     "execution_count": 8,
     "metadata": {},
     "output_type": "execute_result"
    }
   ],
   "source": [
    "df.nunique()"
   ]
  },
  {
   "cell_type": "markdown",
   "id": "6bb619ef",
   "metadata": {},
   "source": [
    "- The number of unique values for each column is as above table. For categorical features, Seasons can take the values of Spring, Summer, Autumn, and Winter. Holiday can take the values of Holiday or No Holiday, and Functioning_Day can take the values of Yes or No."
   ]
  },
  {
   "cell_type": "markdown",
   "id": "4188dc7d",
   "metadata": {},
   "source": [
    "### Statistical information"
   ]
  },
  {
   "cell_type": "code",
   "execution_count": 9,
   "id": "bc354f80",
   "metadata": {},
   "outputs": [
    {
     "data": {
      "text/html": [
       "<div>\n",
       "<style scoped>\n",
       "    .dataframe tbody tr th:only-of-type {\n",
       "        vertical-align: middle;\n",
       "    }\n",
       "\n",
       "    .dataframe tbody tr th {\n",
       "        vertical-align: top;\n",
       "    }\n",
       "\n",
       "    .dataframe thead th {\n",
       "        text-align: right;\n",
       "    }\n",
       "</style>\n",
       "<table border=\"1\" class=\"dataframe\">\n",
       "  <thead>\n",
       "    <tr style=\"text-align: right;\">\n",
       "      <th></th>\n",
       "      <th>Rented_Bike_Count</th>\n",
       "      <th>Hour</th>\n",
       "      <th>Temperature(°C)</th>\n",
       "      <th>Humidity(%)</th>\n",
       "      <th>Wind_speed(m/s)</th>\n",
       "      <th>Visibility_(10m)</th>\n",
       "      <th>Dewpoint_temperature(°C)</th>\n",
       "      <th>Solar_Radiation_(MJ/m2)</th>\n",
       "      <th>Rainfall(mm)</th>\n",
       "      <th>Snowfall(cm)</th>\n",
       "    </tr>\n",
       "  </thead>\n",
       "  <tbody>\n",
       "    <tr>\n",
       "      <th>count</th>\n",
       "      <td>8760.000000</td>\n",
       "      <td>8760.000000</td>\n",
       "      <td>8760.000000</td>\n",
       "      <td>8760.000000</td>\n",
       "      <td>8760.000000</td>\n",
       "      <td>8760.000000</td>\n",
       "      <td>8760.000000</td>\n",
       "      <td>8760.000000</td>\n",
       "      <td>8760.000000</td>\n",
       "      <td>8760.000000</td>\n",
       "    </tr>\n",
       "    <tr>\n",
       "      <th>mean</th>\n",
       "      <td>704.602055</td>\n",
       "      <td>11.500000</td>\n",
       "      <td>12.882922</td>\n",
       "      <td>58.226256</td>\n",
       "      <td>1.724909</td>\n",
       "      <td>1436.825799</td>\n",
       "      <td>4.073813</td>\n",
       "      <td>0.569111</td>\n",
       "      <td>0.148687</td>\n",
       "      <td>0.075068</td>\n",
       "    </tr>\n",
       "    <tr>\n",
       "      <th>std</th>\n",
       "      <td>644.997468</td>\n",
       "      <td>6.922582</td>\n",
       "      <td>11.944825</td>\n",
       "      <td>20.362413</td>\n",
       "      <td>1.036300</td>\n",
       "      <td>608.298712</td>\n",
       "      <td>13.060369</td>\n",
       "      <td>0.868746</td>\n",
       "      <td>1.128193</td>\n",
       "      <td>0.436746</td>\n",
       "    </tr>\n",
       "    <tr>\n",
       "      <th>min</th>\n",
       "      <td>0.000000</td>\n",
       "      <td>0.000000</td>\n",
       "      <td>-17.800000</td>\n",
       "      <td>0.000000</td>\n",
       "      <td>0.000000</td>\n",
       "      <td>27.000000</td>\n",
       "      <td>-30.600000</td>\n",
       "      <td>0.000000</td>\n",
       "      <td>0.000000</td>\n",
       "      <td>0.000000</td>\n",
       "    </tr>\n",
       "    <tr>\n",
       "      <th>25%</th>\n",
       "      <td>191.000000</td>\n",
       "      <td>5.750000</td>\n",
       "      <td>3.500000</td>\n",
       "      <td>42.000000</td>\n",
       "      <td>0.900000</td>\n",
       "      <td>940.000000</td>\n",
       "      <td>-4.700000</td>\n",
       "      <td>0.000000</td>\n",
       "      <td>0.000000</td>\n",
       "      <td>0.000000</td>\n",
       "    </tr>\n",
       "    <tr>\n",
       "      <th>50%</th>\n",
       "      <td>504.500000</td>\n",
       "      <td>11.500000</td>\n",
       "      <td>13.700000</td>\n",
       "      <td>57.000000</td>\n",
       "      <td>1.500000</td>\n",
       "      <td>1698.000000</td>\n",
       "      <td>5.100000</td>\n",
       "      <td>0.010000</td>\n",
       "      <td>0.000000</td>\n",
       "      <td>0.000000</td>\n",
       "    </tr>\n",
       "    <tr>\n",
       "      <th>75%</th>\n",
       "      <td>1065.250000</td>\n",
       "      <td>17.250000</td>\n",
       "      <td>22.500000</td>\n",
       "      <td>74.000000</td>\n",
       "      <td>2.300000</td>\n",
       "      <td>2000.000000</td>\n",
       "      <td>14.800000</td>\n",
       "      <td>0.930000</td>\n",
       "      <td>0.000000</td>\n",
       "      <td>0.000000</td>\n",
       "    </tr>\n",
       "    <tr>\n",
       "      <th>max</th>\n",
       "      <td>3556.000000</td>\n",
       "      <td>23.000000</td>\n",
       "      <td>39.400000</td>\n",
       "      <td>98.000000</td>\n",
       "      <td>7.400000</td>\n",
       "      <td>2000.000000</td>\n",
       "      <td>27.200000</td>\n",
       "      <td>3.520000</td>\n",
       "      <td>35.000000</td>\n",
       "      <td>8.800000</td>\n",
       "    </tr>\n",
       "  </tbody>\n",
       "</table>\n",
       "</div>"
      ],
      "text/plain": [
       "       Rented_Bike_Count         Hour  Temperature(°C)  Humidity(%)  \\\n",
       "count        8760.000000  8760.000000      8760.000000  8760.000000   \n",
       "mean          704.602055    11.500000        12.882922    58.226256   \n",
       "std           644.997468     6.922582        11.944825    20.362413   \n",
       "min             0.000000     0.000000       -17.800000     0.000000   \n",
       "25%           191.000000     5.750000         3.500000    42.000000   \n",
       "50%           504.500000    11.500000        13.700000    57.000000   \n",
       "75%          1065.250000    17.250000        22.500000    74.000000   \n",
       "max          3556.000000    23.000000        39.400000    98.000000   \n",
       "\n",
       "       Wind_speed(m/s)  Visibility_(10m)  Dewpoint_temperature(°C)  \\\n",
       "count      8760.000000       8760.000000               8760.000000   \n",
       "mean          1.724909       1436.825799                  4.073813   \n",
       "std           1.036300        608.298712                 13.060369   \n",
       "min           0.000000         27.000000                -30.600000   \n",
       "25%           0.900000        940.000000                 -4.700000   \n",
       "50%           1.500000       1698.000000                  5.100000   \n",
       "75%           2.300000       2000.000000                 14.800000   \n",
       "max           7.400000       2000.000000                 27.200000   \n",
       "\n",
       "       Solar_Radiation_(MJ/m2)  Rainfall(mm)  Snowfall(cm)  \n",
       "count              8760.000000   8760.000000   8760.000000  \n",
       "mean                  0.569111      0.148687      0.075068  \n",
       "std                   0.868746      1.128193      0.436746  \n",
       "min                   0.000000      0.000000      0.000000  \n",
       "25%                   0.000000      0.000000      0.000000  \n",
       "50%                   0.010000      0.000000      0.000000  \n",
       "75%                   0.930000      0.000000      0.000000  \n",
       "max                   3.520000     35.000000      8.800000  "
      ]
     },
     "execution_count": 9,
     "metadata": {},
     "output_type": "execute_result"
    }
   ],
   "source": [
    "df.describe()"
   ]
  },
  {
   "cell_type": "markdown",
   "id": "fa4cc7c8",
   "metadata": {},
   "source": [
    "- The statistical information, including average, standard deviation, minimum, maximum, median, and the first and last quartiles, for our numeric features, is shown. "
   ]
  },
  {
   "cell_type": "markdown",
   "id": "8eb8bb71",
   "metadata": {},
   "source": [
    "## Data Preparation"
   ]
  },
  {
   "cell_type": "markdown",
   "id": "0ad84c33",
   "metadata": {},
   "source": [
    "### Changing Data Type"
   ]
  },
  {
   "cell_type": "code",
   "execution_count": 10,
   "id": "3cd6102d",
   "metadata": {},
   "outputs": [],
   "source": [
    "df['Date']=pd.to_datetime(df.Date)\n",
    "df['Seasons']=df.Seasons.astype('category')\n",
    "df['Holiday']=df.Holiday.astype('category')\n",
    "df['Functioning_Day']=df.Functioning_Day.astype('category')"
   ]
  },
  {
   "cell_type": "markdown",
   "id": "f90dc789",
   "metadata": {},
   "source": [
    "- The type of the Date column has been changed to datetime, and the other three columns have been changed to category type."
   ]
  },
  {
   "cell_type": "markdown",
   "id": "f835a4d7",
   "metadata": {},
   "source": [
    "### Missing value"
   ]
  },
  {
   "cell_type": "code",
   "execution_count": 11,
   "id": "35aade56",
   "metadata": {},
   "outputs": [
    {
     "data": {
      "text/plain": [
       "Date                        0\n",
       "Rented_Bike_Count           0\n",
       "Hour                        0\n",
       "Temperature(°C)             0\n",
       "Humidity(%)                 0\n",
       "Wind_speed(m/s)             0\n",
       "Visibility_(10m)            0\n",
       "Dewpoint_temperature(°C)    0\n",
       "Solar_Radiation_(MJ/m2)     0\n",
       "Rainfall(mm)                0\n",
       "Snowfall(cm)                0\n",
       "Seasons                     0\n",
       "Holiday                     0\n",
       "Functioning_Day             0\n",
       "dtype: int64"
      ]
     },
     "execution_count": 11,
     "metadata": {},
     "output_type": "execute_result"
    }
   ],
   "source": [
    "df.isnull().sum()"
   ]
  },
  {
   "cell_type": "markdown",
   "id": "db0668e1",
   "metadata": {},
   "source": [
    "- As described before, there is no null value. "
   ]
  },
  {
   "cell_type": "code",
   "execution_count": 12,
   "id": "32f823b8",
   "metadata": {},
   "outputs": [
    {
     "data": {
      "text/html": [
       "<div>\n",
       "<style scoped>\n",
       "    .dataframe tbody tr th:only-of-type {\n",
       "        vertical-align: middle;\n",
       "    }\n",
       "\n",
       "    .dataframe tbody tr th {\n",
       "        vertical-align: top;\n",
       "    }\n",
       "\n",
       "    .dataframe thead th {\n",
       "        text-align: right;\n",
       "    }\n",
       "</style>\n",
       "<table border=\"1\" class=\"dataframe\">\n",
       "  <thead>\n",
       "    <tr style=\"text-align: right;\">\n",
       "      <th></th>\n",
       "      <th>Date</th>\n",
       "      <th>Rented_Bike_Count</th>\n",
       "      <th>Hour</th>\n",
       "      <th>Temperature(°C)</th>\n",
       "      <th>Humidity(%)</th>\n",
       "      <th>Wind_speed(m/s)</th>\n",
       "      <th>Visibility_(10m)</th>\n",
       "      <th>Dewpoint_temperature(°C)</th>\n",
       "      <th>Solar_Radiation_(MJ/m2)</th>\n",
       "      <th>Rainfall(mm)</th>\n",
       "      <th>Snowfall(cm)</th>\n",
       "      <th>Seasons</th>\n",
       "      <th>Holiday</th>\n",
       "      <th>Functioning_Day</th>\n",
       "    </tr>\n",
       "  </thead>\n",
       "  <tbody>\n",
       "    <tr>\n",
       "      <th>0</th>\n",
       "      <td>2017-01-12</td>\n",
       "      <td>254</td>\n",
       "      <td>0</td>\n",
       "      <td>-5.2</td>\n",
       "      <td>37</td>\n",
       "      <td>2.2</td>\n",
       "      <td>2000</td>\n",
       "      <td>-17.6</td>\n",
       "      <td>0.0</td>\n",
       "      <td>0.0</td>\n",
       "      <td>0.0</td>\n",
       "      <td>Winter</td>\n",
       "      <td>No Holiday</td>\n",
       "      <td>Yes</td>\n",
       "    </tr>\n",
       "    <tr>\n",
       "      <th>1</th>\n",
       "      <td>2017-01-12</td>\n",
       "      <td>204</td>\n",
       "      <td>1</td>\n",
       "      <td>-5.5</td>\n",
       "      <td>38</td>\n",
       "      <td>0.8</td>\n",
       "      <td>2000</td>\n",
       "      <td>-17.6</td>\n",
       "      <td>0.0</td>\n",
       "      <td>0.0</td>\n",
       "      <td>0.0</td>\n",
       "      <td>Winter</td>\n",
       "      <td>No Holiday</td>\n",
       "      <td>Yes</td>\n",
       "    </tr>\n",
       "    <tr>\n",
       "      <th>2</th>\n",
       "      <td>2017-01-12</td>\n",
       "      <td>173</td>\n",
       "      <td>2</td>\n",
       "      <td>-6.0</td>\n",
       "      <td>39</td>\n",
       "      <td>1.0</td>\n",
       "      <td>2000</td>\n",
       "      <td>-17.7</td>\n",
       "      <td>0.0</td>\n",
       "      <td>0.0</td>\n",
       "      <td>0.0</td>\n",
       "      <td>Winter</td>\n",
       "      <td>No Holiday</td>\n",
       "      <td>Yes</td>\n",
       "    </tr>\n",
       "    <tr>\n",
       "      <th>3</th>\n",
       "      <td>2017-01-12</td>\n",
       "      <td>107</td>\n",
       "      <td>3</td>\n",
       "      <td>-6.2</td>\n",
       "      <td>40</td>\n",
       "      <td>0.9</td>\n",
       "      <td>2000</td>\n",
       "      <td>-17.6</td>\n",
       "      <td>0.0</td>\n",
       "      <td>0.0</td>\n",
       "      <td>0.0</td>\n",
       "      <td>Winter</td>\n",
       "      <td>No Holiday</td>\n",
       "      <td>Yes</td>\n",
       "    </tr>\n",
       "    <tr>\n",
       "      <th>4</th>\n",
       "      <td>2017-01-12</td>\n",
       "      <td>78</td>\n",
       "      <td>4</td>\n",
       "      <td>-6.0</td>\n",
       "      <td>36</td>\n",
       "      <td>2.3</td>\n",
       "      <td>2000</td>\n",
       "      <td>-18.6</td>\n",
       "      <td>0.0</td>\n",
       "      <td>0.0</td>\n",
       "      <td>0.0</td>\n",
       "      <td>Winter</td>\n",
       "      <td>No Holiday</td>\n",
       "      <td>Yes</td>\n",
       "    </tr>\n",
       "  </tbody>\n",
       "</table>\n",
       "</div>"
      ],
      "text/plain": [
       "        Date  Rented_Bike_Count  Hour  Temperature(°C)  Humidity(%)  \\\n",
       "0 2017-01-12                254     0             -5.2           37   \n",
       "1 2017-01-12                204     1             -5.5           38   \n",
       "2 2017-01-12                173     2             -6.0           39   \n",
       "3 2017-01-12                107     3             -6.2           40   \n",
       "4 2017-01-12                 78     4             -6.0           36   \n",
       "\n",
       "   Wind_speed(m/s)  Visibility_(10m)  Dewpoint_temperature(°C)  \\\n",
       "0              2.2              2000                     -17.6   \n",
       "1              0.8              2000                     -17.6   \n",
       "2              1.0              2000                     -17.7   \n",
       "3              0.9              2000                     -17.6   \n",
       "4              2.3              2000                     -18.6   \n",
       "\n",
       "   Solar_Radiation_(MJ/m2)  Rainfall(mm)  Snowfall(cm) Seasons     Holiday  \\\n",
       "0                      0.0           0.0           0.0  Winter  No Holiday   \n",
       "1                      0.0           0.0           0.0  Winter  No Holiday   \n",
       "2                      0.0           0.0           0.0  Winter  No Holiday   \n",
       "3                      0.0           0.0           0.0  Winter  No Holiday   \n",
       "4                      0.0           0.0           0.0  Winter  No Holiday   \n",
       "\n",
       "  Functioning_Day  \n",
       "0             Yes  \n",
       "1             Yes  \n",
       "2             Yes  \n",
       "3             Yes  \n",
       "4             Yes  "
      ]
     },
     "execution_count": 12,
     "metadata": {},
     "output_type": "execute_result"
    }
   ],
   "source": [
    "df.head()"
   ]
  },
  {
   "cell_type": "markdown",
   "id": "1d21a95a",
   "metadata": {},
   "source": [
    "### Renaming features"
   ]
  },
  {
   "cell_type": "code",
   "execution_count": 13,
   "id": "3ed5c448",
   "metadata": {},
   "outputs": [],
   "source": [
    "# create a dictionary with the old and new column names\n",
    "new_names = {'Rented_Bike_Count': 'Count', 'Temperature(°C)': 'Tem', 'Humidity(%)': 'Hum', 'Wind_speed(m/s)': 'Wind',\n",
    "             'Visibility_(10m)': 'Vis','Dewpoint_temperature(°C)': 'DeTem','Solar_Radiation_(MJ/m2)': 'Sol','Rainfall(mm)': 'Rain',\n",
    "             'Snowfall(cm)': 'Snow', 'Functioning_Day': 'Func'}\n",
    "\n",
    "# rename the columns using the rename() method with the dictionary\n",
    "df = df.rename(columns=new_names)\n"
   ]
  },
  {
   "cell_type": "markdown",
   "id": "85c7f9c5",
   "metadata": {},
   "source": [
    "- To better work with columns and avoid mistyping column names in our queries, the column names have been changed as shown above."
   ]
  },
  {
   "cell_type": "markdown",
   "id": "d0211e6b",
   "metadata": {},
   "source": [
    "#### cheking dataset"
   ]
  },
  {
   "cell_type": "code",
   "execution_count": 14,
   "id": "369147bb",
   "metadata": {},
   "outputs": [
    {
     "data": {
      "text/html": [
       "<div>\n",
       "<style scoped>\n",
       "    .dataframe tbody tr th:only-of-type {\n",
       "        vertical-align: middle;\n",
       "    }\n",
       "\n",
       "    .dataframe tbody tr th {\n",
       "        vertical-align: top;\n",
       "    }\n",
       "\n",
       "    .dataframe thead th {\n",
       "        text-align: right;\n",
       "    }\n",
       "</style>\n",
       "<table border=\"1\" class=\"dataframe\">\n",
       "  <thead>\n",
       "    <tr style=\"text-align: right;\">\n",
       "      <th></th>\n",
       "      <th>Date</th>\n",
       "      <th>Count</th>\n",
       "      <th>Hour</th>\n",
       "      <th>Tem</th>\n",
       "      <th>Hum</th>\n",
       "      <th>Wind</th>\n",
       "      <th>Vis</th>\n",
       "      <th>DeTem</th>\n",
       "      <th>Sol</th>\n",
       "      <th>Rain</th>\n",
       "      <th>Snow</th>\n",
       "      <th>Seasons</th>\n",
       "      <th>Holiday</th>\n",
       "      <th>Func</th>\n",
       "    </tr>\n",
       "  </thead>\n",
       "  <tbody>\n",
       "    <tr>\n",
       "      <th>0</th>\n",
       "      <td>2017-01-12</td>\n",
       "      <td>254</td>\n",
       "      <td>0</td>\n",
       "      <td>-5.2</td>\n",
       "      <td>37</td>\n",
       "      <td>2.2</td>\n",
       "      <td>2000</td>\n",
       "      <td>-17.6</td>\n",
       "      <td>0.0</td>\n",
       "      <td>0.0</td>\n",
       "      <td>0.0</td>\n",
       "      <td>Winter</td>\n",
       "      <td>No Holiday</td>\n",
       "      <td>Yes</td>\n",
       "    </tr>\n",
       "    <tr>\n",
       "      <th>1</th>\n",
       "      <td>2017-01-12</td>\n",
       "      <td>204</td>\n",
       "      <td>1</td>\n",
       "      <td>-5.5</td>\n",
       "      <td>38</td>\n",
       "      <td>0.8</td>\n",
       "      <td>2000</td>\n",
       "      <td>-17.6</td>\n",
       "      <td>0.0</td>\n",
       "      <td>0.0</td>\n",
       "      <td>0.0</td>\n",
       "      <td>Winter</td>\n",
       "      <td>No Holiday</td>\n",
       "      <td>Yes</td>\n",
       "    </tr>\n",
       "    <tr>\n",
       "      <th>2</th>\n",
       "      <td>2017-01-12</td>\n",
       "      <td>173</td>\n",
       "      <td>2</td>\n",
       "      <td>-6.0</td>\n",
       "      <td>39</td>\n",
       "      <td>1.0</td>\n",
       "      <td>2000</td>\n",
       "      <td>-17.7</td>\n",
       "      <td>0.0</td>\n",
       "      <td>0.0</td>\n",
       "      <td>0.0</td>\n",
       "      <td>Winter</td>\n",
       "      <td>No Holiday</td>\n",
       "      <td>Yes</td>\n",
       "    </tr>\n",
       "    <tr>\n",
       "      <th>3</th>\n",
       "      <td>2017-01-12</td>\n",
       "      <td>107</td>\n",
       "      <td>3</td>\n",
       "      <td>-6.2</td>\n",
       "      <td>40</td>\n",
       "      <td>0.9</td>\n",
       "      <td>2000</td>\n",
       "      <td>-17.6</td>\n",
       "      <td>0.0</td>\n",
       "      <td>0.0</td>\n",
       "      <td>0.0</td>\n",
       "      <td>Winter</td>\n",
       "      <td>No Holiday</td>\n",
       "      <td>Yes</td>\n",
       "    </tr>\n",
       "    <tr>\n",
       "      <th>4</th>\n",
       "      <td>2017-01-12</td>\n",
       "      <td>78</td>\n",
       "      <td>4</td>\n",
       "      <td>-6.0</td>\n",
       "      <td>36</td>\n",
       "      <td>2.3</td>\n",
       "      <td>2000</td>\n",
       "      <td>-18.6</td>\n",
       "      <td>0.0</td>\n",
       "      <td>0.0</td>\n",
       "      <td>0.0</td>\n",
       "      <td>Winter</td>\n",
       "      <td>No Holiday</td>\n",
       "      <td>Yes</td>\n",
       "    </tr>\n",
       "  </tbody>\n",
       "</table>\n",
       "</div>"
      ],
      "text/plain": [
       "        Date  Count  Hour  Tem  Hum  Wind   Vis  DeTem  Sol  Rain  Snow  \\\n",
       "0 2017-01-12    254     0 -5.2   37   2.2  2000  -17.6  0.0   0.0   0.0   \n",
       "1 2017-01-12    204     1 -5.5   38   0.8  2000  -17.6  0.0   0.0   0.0   \n",
       "2 2017-01-12    173     2 -6.0   39   1.0  2000  -17.7  0.0   0.0   0.0   \n",
       "3 2017-01-12    107     3 -6.2   40   0.9  2000  -17.6  0.0   0.0   0.0   \n",
       "4 2017-01-12     78     4 -6.0   36   2.3  2000  -18.6  0.0   0.0   0.0   \n",
       "\n",
       "  Seasons     Holiday Func  \n",
       "0  Winter  No Holiday  Yes  \n",
       "1  Winter  No Holiday  Yes  \n",
       "2  Winter  No Holiday  Yes  \n",
       "3  Winter  No Holiday  Yes  \n",
       "4  Winter  No Holiday  Yes  "
      ]
     },
     "execution_count": 14,
     "metadata": {},
     "output_type": "execute_result"
    }
   ],
   "source": [
    "df.head()"
   ]
  },
  {
   "cell_type": "markdown",
   "id": "d34e3431",
   "metadata": {},
   "source": [
    "## Visualization and Feature Engineering"
   ]
  },
  {
   "cell_type": "markdown",
   "id": "4ac94e9c",
   "metadata": {},
   "source": [
    "### Features reduction"
   ]
  },
  {
   "cell_type": "markdown",
   "id": "778c0f9a",
   "metadata": {},
   "source": [
    "#### chechking Count  for functional and non functional days"
   ]
  },
  {
   "cell_type": "code",
   "execution_count": 15,
   "id": "014b013d",
   "metadata": {},
   "outputs": [
    {
     "data": {
      "text/plain": [
       "<AxesSubplot:xlabel='Func', ylabel='Count'>"
      ]
     },
     "execution_count": 15,
     "metadata": {},
     "output_type": "execute_result"
    },
    {
     "data": {
      "image/png": "[encoded data removed]",
      "text/plain": [
       "<Figure size 360x288 with 1 Axes>"
      ]
     },
     "metadata": {
      "needs_background": "light"
     },
     "output_type": "display_data"
    }
   ],
   "source": [
    "plt.figure(figsize=(5,4))\n",
    "sns.barplot(x='Func',y='Count',data=df)"
   ]
  },
  {
   "cell_type": "markdown",
   "id": "523f34c0",
   "metadata": {},
   "source": [
    "- The number of rented bikes on days when the bike sharing system was not functioning is zero, as the system was completely offline during those days. Therefore, the rows with zero counts of rented bikes, as well as the corresponding column, can be deleted. "
   ]
  },
  {
   "cell_type": "markdown",
   "id": "8f032a05",
   "metadata": {},
   "source": [
    "#### Droping unusefull rows and Func column"
   ]
  },
  {
   "cell_type": "code",
   "execution_count": 16,
   "id": "43ba1b70",
   "metadata": {},
   "outputs": [],
   "source": [
    "#Deleting rows of non functional days \n",
    "df=df.drop(df[df['Func'] == 'No'].index) "
   ]
  },
  {
   "cell_type": "code",
   "execution_count": 17,
   "id": "a83c04e2",
   "metadata": {},
   "outputs": [],
   "source": [
    "#Deleting Func Column as it is not usefull anymore\n",
    "df=df.drop(['Func'], axis = 1)"
   ]
  },
  {
   "cell_type": "markdown",
   "id": "3276d822",
   "metadata": {},
   "source": [
    "#### chechking Count for Seasons"
   ]
  },
  {
   "cell_type": "code",
   "execution_count": 18,
   "id": "8dd7c951",
   "metadata": {},
   "outputs": [
    {
     "data": {
      "text/plain": [
       "<AxesSubplot:xlabel='Seasons', ylabel='Count'>"
      ]
     },
     "execution_count": 18,
     "metadata": {},
     "output_type": "execute_result"
    },
    {
     "data": {
      "image/png": "[encoded data removed]",
      "text/plain": [
       "<Figure size 360x288 with 1 Axes>"
      ]
     },
     "metadata": {
      "needs_background": "light"
     },
     "output_type": "display_data"
    }
   ],
   "source": [
    "plt.figure(figsize=(5,4))\n",
    "sns.barplot(x='Seasons',y='Count',data=df)"
   ]
  },
  {
   "cell_type": "markdown",
   "id": "5e89b36a",
   "metadata": {},
   "source": [
    "- Winter has the lowest bike rental average, while summer has the highest. It should be noted that the default aggregation function used by the sns.barplot is mean."
   ]
  },
  {
   "cell_type": "markdown",
   "id": "f115607b",
   "metadata": {},
   "source": [
    "#### chechking Count for Holidays\n"
   ]
  },
  {
   "cell_type": "code",
   "execution_count": 19,
   "id": "ce1e1d1a",
   "metadata": {},
   "outputs": [
    {
     "data": {
      "text/plain": [
       "<AxesSubplot:xlabel='Holiday', ylabel='Count'>"
      ]
     },
     "execution_count": 19,
     "metadata": {},
     "output_type": "execute_result"
    },
    {
     "data": {
      "image/png": "[encoded data removed]",
      "text/plain": [
       "<Figure size 360x360 with 1 Axes>"
      ]
     },
     "metadata": {
      "needs_background": "light"
     },
     "output_type": "display_data"
    }
   ],
   "source": [
    "plt.figure(figsize=(5,5))\n",
    "sns.barplot(x='Holiday',y='Count', data=df, estimator=sum)"
   ]
  },
  {
   "cell_type": "markdown",
   "id": "8a05ac61",
   "metadata": {},
   "source": [
    "- the sum of rented bikes for non holiday days are considerably more than the amount for holidays. So we can check it more"
   ]
  },
  {
   "cell_type": "code",
   "execution_count": 20,
   "id": "6e4474ae",
   "metadata": {},
   "outputs": [
    {
     "data": {
      "text/plain": [
       "<AxesSubplot:xlabel='Hour', ylabel='Count'>"
      ]
     },
     "execution_count": 20,
     "metadata": {},
     "output_type": "execute_result"
    },
    {
     "data": {
      "image/png": "[encoded data removed]",
      "text/plain": [
       "<Figure size 576x504 with 1 Axes>"
      ]
     },
     "metadata": {
      "needs_background": "light"
     },
     "output_type": "display_data"
    }
   ],
   "source": [
    "plt.figure(figsize=(8,7))\n",
    "sns.barplot(x='Hour',y='Count',hue = 'Holiday', data=df, estimator=sum)"
   ]
  },
  {
   "cell_type": "code",
   "execution_count": 21,
   "id": "5a0fd8d4",
   "metadata": {},
   "outputs": [
    {
     "data": {
      "text/plain": [
       "<AxesSubplot:xlabel='Seasons', ylabel='Count'>"
      ]
     },
     "execution_count": 21,
     "metadata": {},
     "output_type": "execute_result"
    },
    {
     "data": {
      "image/png": "[encoded data removed]",
      "text/plain": [
       "<Figure size 576x504 with 1 Axes>"
      ]
     },
     "metadata": {
      "needs_background": "light"
     },
     "output_type": "display_data"
    }
   ],
   "source": [
    "plt.figure(figsize=(8,7))\n",
    "sns.barplot(x='Seasons',y='Count',hue = 'Holiday', data=df, estimator=sum)"
   ]
  },
  {
   "cell_type": "markdown",
   "id": "c202aa6d",
   "metadata": {},
   "source": [
    "- It is clear that the difference in the total amount of rented bikes between holidays and non-holidays is considerable and may reduce the precision of our regression model in the next steps. We can either drop the values and then the column of Holiday or group our data by this feature, but as it may make our analysis more complicated for now, we will continue with this feature."
   ]
  },
  {
   "cell_type": "markdown",
   "id": "161138bf",
   "metadata": {},
   "source": [
    "#### Dropping The Date"
   ]
  },
  {
   "cell_type": "markdown",
   "id": "cd9e3322",
   "metadata": {},
   "source": [
    "- as the feature of Date can not affect our prediction of rented bike we should drop the date"
   ]
  },
  {
   "cell_type": "code",
   "execution_count": 22,
   "id": "6dde5c44",
   "metadata": {},
   "outputs": [],
   "source": [
    "df=df.drop(['Date'], axis = 1)"
   ]
  },
  {
   "cell_type": "markdown",
   "id": "591aa441",
   "metadata": {},
   "source": [
    "#### Correlation"
   ]
  },
  {
   "cell_type": "code",
   "execution_count": 23,
   "id": "bc14fe19",
   "metadata": {},
   "outputs": [
    {
     "data": {
      "image/png": "[encoded data removed]",
      "text/plain": [
       "<Figure size 864x576 with 2 Axes>"
      ]
     },
     "metadata": {
      "needs_background": "light"
     },
     "output_type": "display_data"
    }
   ],
   "source": [
    "# finding the correlation of numerical variables\n",
    "corr = df.corr()\n",
    "\n",
    "#Deleting the half of the plot as it is replication of other half \n",
    "mask=np.array(corr)\n",
    "mask[np.tril_indices_from(mask)]=False\n",
    "\n",
    "\n",
    "#Heat map for Visualization of attributes correlation\n",
    "fig,ax=plt.subplots(figsize=(12,8))\n",
    "sns.heatmap(corr, mask=mask, vmax=0.6, annot=True, ax=ax, cmap='GnBu', )\n",
    "ax.set_title('Correlation matrix ')\n",
    "plt.show()\n"
   ]
  },
  {
   "cell_type": "markdown",
   "id": "7f40b2a7",
   "metadata": {},
   "source": [
    "- As the heatmap shows, the Tem (Temperature) and DeTem (Dewpoint Temperature) are highly correlated, we can drop one of them"
   ]
  },
  {
   "cell_type": "code",
   "execution_count": 24,
   "id": "76bb239e",
   "metadata": {},
   "outputs": [],
   "source": [
    "df=df.drop(['DeTem'], axis = 1)"
   ]
  },
  {
   "cell_type": "markdown",
   "id": "64199413",
   "metadata": {},
   "source": [
    "#### Checking the dataset"
   ]
  },
  {
   "cell_type": "code",
   "execution_count": 25,
   "id": "b20e1872",
   "metadata": {},
   "outputs": [
    {
     "data": {
      "text/html": [
       "<div>\n",
       "<style scoped>\n",
       "    .dataframe tbody tr th:only-of-type {\n",
       "        vertical-align: middle;\n",
       "    }\n",
       "\n",
       "    .dataframe tbody tr th {\n",
       "        vertical-align: top;\n",
       "    }\n",
       "\n",
       "    .dataframe thead th {\n",
       "        text-align: right;\n",
       "    }\n",
       "</style>\n",
       "<table border=\"1\" class=\"dataframe\">\n",
       "  <thead>\n",
       "    <tr style=\"text-align: right;\">\n",
       "      <th></th>\n",
       "      <th>Count</th>\n",
       "      <th>Hour</th>\n",
       "      <th>Tem</th>\n",
       "      <th>Hum</th>\n",
       "      <th>Wind</th>\n",
       "      <th>Vis</th>\n",
       "      <th>Sol</th>\n",
       "      <th>Rain</th>\n",
       "      <th>Snow</th>\n",
       "      <th>Seasons</th>\n",
       "      <th>Holiday</th>\n",
       "    </tr>\n",
       "  </thead>\n",
       "  <tbody>\n",
       "    <tr>\n",
       "      <th>0</th>\n",
       "      <td>254</td>\n",
       "      <td>0</td>\n",
       "      <td>-5.2</td>\n",
       "      <td>37</td>\n",
       "      <td>2.2</td>\n",
       "      <td>2000</td>\n",
       "      <td>0.0</td>\n",
       "      <td>0.0</td>\n",
       "      <td>0.0</td>\n",
       "      <td>Winter</td>\n",
       "      <td>No Holiday</td>\n",
       "    </tr>\n",
       "    <tr>\n",
       "      <th>1</th>\n",
       "      <td>204</td>\n",
       "      <td>1</td>\n",
       "      <td>-5.5</td>\n",
       "      <td>38</td>\n",
       "      <td>0.8</td>\n",
       "      <td>2000</td>\n",
       "      <td>0.0</td>\n",
       "      <td>0.0</td>\n",
       "      <td>0.0</td>\n",
       "      <td>Winter</td>\n",
       "      <td>No Holiday</td>\n",
       "    </tr>\n",
       "    <tr>\n",
       "      <th>2</th>\n",
       "      <td>173</td>\n",
       "      <td>2</td>\n",
       "      <td>-6.0</td>\n",
       "      <td>39</td>\n",
       "      <td>1.0</td>\n",
       "      <td>2000</td>\n",
       "      <td>0.0</td>\n",
       "      <td>0.0</td>\n",
       "      <td>0.0</td>\n",
       "      <td>Winter</td>\n",
       "      <td>No Holiday</td>\n",
       "    </tr>\n",
       "    <tr>\n",
       "      <th>3</th>\n",
       "      <td>107</td>\n",
       "      <td>3</td>\n",
       "      <td>-6.2</td>\n",
       "      <td>40</td>\n",
       "      <td>0.9</td>\n",
       "      <td>2000</td>\n",
       "      <td>0.0</td>\n",
       "      <td>0.0</td>\n",
       "      <td>0.0</td>\n",
       "      <td>Winter</td>\n",
       "      <td>No Holiday</td>\n",
       "    </tr>\n",
       "    <tr>\n",
       "      <th>4</th>\n",
       "      <td>78</td>\n",
       "      <td>4</td>\n",
       "      <td>-6.0</td>\n",
       "      <td>36</td>\n",
       "      <td>2.3</td>\n",
       "      <td>2000</td>\n",
       "      <td>0.0</td>\n",
       "      <td>0.0</td>\n",
       "      <td>0.0</td>\n",
       "      <td>Winter</td>\n",
       "      <td>No Holiday</td>\n",
       "    </tr>\n",
       "  </tbody>\n",
       "</table>\n",
       "</div>"
      ],
      "text/plain": [
       "   Count  Hour  Tem  Hum  Wind   Vis  Sol  Rain  Snow Seasons     Holiday\n",
       "0    254     0 -5.2   37   2.2  2000  0.0   0.0   0.0  Winter  No Holiday\n",
       "1    204     1 -5.5   38   0.8  2000  0.0   0.0   0.0  Winter  No Holiday\n",
       "2    173     2 -6.0   39   1.0  2000  0.0   0.0   0.0  Winter  No Holiday\n",
       "3    107     3 -6.2   40   0.9  2000  0.0   0.0   0.0  Winter  No Holiday\n",
       "4     78     4 -6.0   36   2.3  2000  0.0   0.0   0.0  Winter  No Holiday"
      ]
     },
     "execution_count": 25,
     "metadata": {},
     "output_type": "execute_result"
    }
   ],
   "source": [
    "df.head()"
   ]
  },
  {
   "cell_type": "code",
   "execution_count": 26,
   "id": "5b07c9f9",
   "metadata": {},
   "outputs": [
    {
     "data": {
      "text/plain": [
       "(8465, 11)"
      ]
     },
     "execution_count": 26,
     "metadata": {},
     "output_type": "execute_result"
    }
   ],
   "source": [
    "df.shape"
   ]
  },
  {
   "cell_type": "markdown",
   "id": "dfa57c6b",
   "metadata": {},
   "source": [
    "### Outliers"
   ]
  },
  {
   "cell_type": "markdown",
   "id": "2c928235",
   "metadata": {},
   "source": [
    "#### Boxplots"
   ]
  },
  {
   "cell_type": "code",
   "execution_count": 27,
   "id": "f1f42b73",
   "metadata": {},
   "outputs": [
    {
     "data": {
      "image/png": "[encoded data removed]",
      "text/plain": [
       "<Figure size 1080x720 with 8 Axes>"
      ]
     },
     "metadata": {
      "needs_background": "light"
     },
     "output_type": "display_data"
    }
   ],
   "source": [
    "Outliers = df[['Count','Tem','Hum','Wind','Vis','Sol','Rain','Snow']]\n",
    "# create a figure with 5 subplots\n",
    "fig, axs = plt.subplots(nrows=1, ncols=8, figsize=(15, 10))\n",
    "\n",
    "# create a box plot for each feature\n",
    "for i, feature in enumerate(Outliers.columns):\n",
    "    axs[i].boxplot(df[feature])\n",
    "    axs[i].set_title(feature)\n",
    "\n",
    "# adjust the spacing between subplots\n",
    "plt.subplots_adjust(wspace=0.5)\n",
    "\n",
    "# show the plots\n",
    "plt.show()\n",
    "\n",
    "\n",
    "\n",
    "\n",
    "\n"
   ]
  },
  {
   "cell_type": "markdown",
   "id": "928d44ea",
   "metadata": {},
   "source": [
    "- Boxplots demonstrate that the features Count, Wind, Rain, and Snow have outlier values. These outliers may affect the accuracy of our analysis and subsequent regression models. Therefore, we should impute these outlier values with the median or mean, depending on the skewness or distribution of each feature."
   ]
  },
  {
   "cell_type": "markdown",
   "id": "a1888ec9",
   "metadata": {},
   "source": [
    "#### Histogram for checking distribution"
   ]
  },
  {
   "cell_type": "code",
   "execution_count": 27,
   "id": "6c2ca55d",
   "metadata": {},
   "outputs": [
    {
     "data": {
      "image/png": "[encoded data removed]",
      "text/plain": [
       "<Figure size 1440x720 with 6 Axes>"
      ]
     },
     "metadata": {
      "needs_background": "light"
     },
     "output_type": "display_data"
    }
   ],
   "source": [
    "Outliers = df[['Count','Wind','Vis','Sol','Rain','Snow']]\n",
    "# create a figure with 5 subplots\n",
    "fig, axs = plt.subplots(nrows=2, ncols=3, figsize=(20, 10))\n",
    "\n",
    "# create a distribution plot for each feature\n",
    "for i, feature in enumerate(Outliers.columns):\n",
    "    sns.histplot(df[feature], kde=True, ax=axs[i//3][i%3])\n",
    "    axs[i//3][i%3].set_title(feature)\n",
    "\n",
    "# adjust the spacing between subplots\n",
    "plt.subplots_adjust(wspace=0.5, hspace=0.5)"
   ]
  },
  {
   "cell_type": "markdown",
   "id": "3bcc3d17",
   "metadata": {},
   "source": [
    "- Given the high skewness of our features, any removal or alteration of values based on the first and third quartiles could greatly impact the distribution's skewness and the accuracy of our analysis. Therefore, it is advisable to simply impute values that are significantly different from others."
   ]
  },
  {
   "cell_type": "markdown",
   "id": "89d94454",
   "metadata": {},
   "source": [
    "#### Deleting extrime values of columns"
   ]
  },
  {
   "cell_type": "code",
   "execution_count": 29,
   "id": "d9857efe",
   "metadata": {},
   "outputs": [],
   "source": [
    "df = df.query('(Count < 3400) and (Wind < 6.5 ) and (Rain < 25) and (Snow < 6.5) ')"
   ]
  },
  {
   "cell_type": "markdown",
   "id": "8925d3ba",
   "metadata": {},
   "source": [
    "- According to the boxplots, the upper limit of Count was considered to be 3400, while the values of 6.5, 25, and 6.5 were considered for Wind, Rain, and Snow, respectively."
   ]
  },
  {
   "cell_type": "markdown",
   "id": "cfce4dc4",
   "metadata": {},
   "source": [
    "#### Checking the dataset"
   ]
  },
  {
   "cell_type": "code",
   "execution_count": 28,
   "id": "c355955c",
   "metadata": {},
   "outputs": [
    {
     "data": {
      "text/html": [
       "<div>\n",
       "<style scoped>\n",
       "    .dataframe tbody tr th:only-of-type {\n",
       "        vertical-align: middle;\n",
       "    }\n",
       "\n",
       "    .dataframe tbody tr th {\n",
       "        vertical-align: top;\n",
       "    }\n",
       "\n",
       "    .dataframe thead th {\n",
       "        text-align: right;\n",
       "    }\n",
       "</style>\n",
       "<table border=\"1\" class=\"dataframe\">\n",
       "  <thead>\n",
       "    <tr style=\"text-align: right;\">\n",
       "      <th></th>\n",
       "      <th>Count</th>\n",
       "      <th>Hour</th>\n",
       "      <th>Tem</th>\n",
       "      <th>Hum</th>\n",
       "      <th>Wind</th>\n",
       "      <th>Vis</th>\n",
       "      <th>Sol</th>\n",
       "      <th>Rain</th>\n",
       "      <th>Snow</th>\n",
       "      <th>Seasons</th>\n",
       "      <th>Holiday</th>\n",
       "    </tr>\n",
       "  </thead>\n",
       "  <tbody>\n",
       "    <tr>\n",
       "      <th>0</th>\n",
       "      <td>254</td>\n",
       "      <td>0</td>\n",
       "      <td>-5.2</td>\n",
       "      <td>37</td>\n",
       "      <td>2.2</td>\n",
       "      <td>2000</td>\n",
       "      <td>0.0</td>\n",
       "      <td>0.0</td>\n",
       "      <td>0.0</td>\n",
       "      <td>Winter</td>\n",
       "      <td>No Holiday</td>\n",
       "    </tr>\n",
       "    <tr>\n",
       "      <th>1</th>\n",
       "      <td>204</td>\n",
       "      <td>1</td>\n",
       "      <td>-5.5</td>\n",
       "      <td>38</td>\n",
       "      <td>0.8</td>\n",
       "      <td>2000</td>\n",
       "      <td>0.0</td>\n",
       "      <td>0.0</td>\n",
       "      <td>0.0</td>\n",
       "      <td>Winter</td>\n",
       "      <td>No Holiday</td>\n",
       "    </tr>\n",
       "    <tr>\n",
       "      <th>2</th>\n",
       "      <td>173</td>\n",
       "      <td>2</td>\n",
       "      <td>-6.0</td>\n",
       "      <td>39</td>\n",
       "      <td>1.0</td>\n",
       "      <td>2000</td>\n",
       "      <td>0.0</td>\n",
       "      <td>0.0</td>\n",
       "      <td>0.0</td>\n",
       "      <td>Winter</td>\n",
       "      <td>No Holiday</td>\n",
       "    </tr>\n",
       "    <tr>\n",
       "      <th>3</th>\n",
       "      <td>107</td>\n",
       "      <td>3</td>\n",
       "      <td>-6.2</td>\n",
       "      <td>40</td>\n",
       "      <td>0.9</td>\n",
       "      <td>2000</td>\n",
       "      <td>0.0</td>\n",
       "      <td>0.0</td>\n",
       "      <td>0.0</td>\n",
       "      <td>Winter</td>\n",
       "      <td>No Holiday</td>\n",
       "    </tr>\n",
       "    <tr>\n",
       "      <th>4</th>\n",
       "      <td>78</td>\n",
       "      <td>4</td>\n",
       "      <td>-6.0</td>\n",
       "      <td>36</td>\n",
       "      <td>2.3</td>\n",
       "      <td>2000</td>\n",
       "      <td>0.0</td>\n",
       "      <td>0.0</td>\n",
       "      <td>0.0</td>\n",
       "      <td>Winter</td>\n",
       "      <td>No Holiday</td>\n",
       "    </tr>\n",
       "  </tbody>\n",
       "</table>\n",
       "</div>"
      ],
      "text/plain": [
       "   Count  Hour  Tem  Hum  Wind   Vis  Sol  Rain  Snow Seasons     Holiday\n",
       "0    254     0 -5.2   37   2.2  2000  0.0   0.0   0.0  Winter  No Holiday\n",
       "1    204     1 -5.5   38   0.8  2000  0.0   0.0   0.0  Winter  No Holiday\n",
       "2    173     2 -6.0   39   1.0  2000  0.0   0.0   0.0  Winter  No Holiday\n",
       "3    107     3 -6.2   40   0.9  2000  0.0   0.0   0.0  Winter  No Holiday\n",
       "4     78     4 -6.0   36   2.3  2000  0.0   0.0   0.0  Winter  No Holiday"
      ]
     },
     "execution_count": 28,
     "metadata": {},
     "output_type": "execute_result"
    }
   ],
   "source": [
    "df.head()"
   ]
  },
  {
   "cell_type": "code",
   "execution_count": 29,
   "id": "09ef454b",
   "metadata": {},
   "outputs": [
    {
     "data": {
      "text/plain": [
       "(8465, 11)"
      ]
     },
     "execution_count": 29,
     "metadata": {},
     "output_type": "execute_result"
    }
   ],
   "source": [
    "df.shape"
   ]
  },
  {
   "cell_type": "markdown",
   "id": "9daebe79",
   "metadata": {},
   "source": [
    "### One-hot Encoding"
   ]
  },
  {
   "cell_type": "code",
   "execution_count": 30,
   "id": "6075eb6c",
   "metadata": {},
   "outputs": [
    {
     "data": {
      "text/html": [
       "<div>\n",
       "<style scoped>\n",
       "    .dataframe tbody tr th:only-of-type {\n",
       "        vertical-align: middle;\n",
       "    }\n",
       "\n",
       "    .dataframe tbody tr th {\n",
       "        vertical-align: top;\n",
       "    }\n",
       "\n",
       "    .dataframe thead th {\n",
       "        text-align: right;\n",
       "    }\n",
       "</style>\n",
       "<table border=\"1\" class=\"dataframe\">\n",
       "  <thead>\n",
       "    <tr style=\"text-align: right;\">\n",
       "      <th></th>\n",
       "      <th>Count</th>\n",
       "      <th>Hour</th>\n",
       "      <th>Tem</th>\n",
       "      <th>Hum</th>\n",
       "      <th>Wind</th>\n",
       "      <th>Vis</th>\n",
       "      <th>Sol</th>\n",
       "      <th>Rain</th>\n",
       "      <th>Snow</th>\n",
       "      <th>Seasons_Autumn</th>\n",
       "      <th>Seasons_Spring</th>\n",
       "      <th>Seasons_Summer</th>\n",
       "      <th>Seasons_Winter</th>\n",
       "      <th>Holiday_Holiday</th>\n",
       "      <th>Holiday_No Holiday</th>\n",
       "    </tr>\n",
       "  </thead>\n",
       "  <tbody>\n",
       "    <tr>\n",
       "      <th>0</th>\n",
       "      <td>254</td>\n",
       "      <td>0</td>\n",
       "      <td>-5.2</td>\n",
       "      <td>37</td>\n",
       "      <td>2.2</td>\n",
       "      <td>2000</td>\n",
       "      <td>0.0</td>\n",
       "      <td>0.0</td>\n",
       "      <td>0.0</td>\n",
       "      <td>0</td>\n",
       "      <td>0</td>\n",
       "      <td>0</td>\n",
       "      <td>1</td>\n",
       "      <td>0</td>\n",
       "      <td>1</td>\n",
       "    </tr>\n",
       "    <tr>\n",
       "      <th>1</th>\n",
       "      <td>204</td>\n",
       "      <td>1</td>\n",
       "      <td>-5.5</td>\n",
       "      <td>38</td>\n",
       "      <td>0.8</td>\n",
       "      <td>2000</td>\n",
       "      <td>0.0</td>\n",
       "      <td>0.0</td>\n",
       "      <td>0.0</td>\n",
       "      <td>0</td>\n",
       "      <td>0</td>\n",
       "      <td>0</td>\n",
       "      <td>1</td>\n",
       "      <td>0</td>\n",
       "      <td>1</td>\n",
       "    </tr>\n",
       "    <tr>\n",
       "      <th>2</th>\n",
       "      <td>173</td>\n",
       "      <td>2</td>\n",
       "      <td>-6.0</td>\n",
       "      <td>39</td>\n",
       "      <td>1.0</td>\n",
       "      <td>2000</td>\n",
       "      <td>0.0</td>\n",
       "      <td>0.0</td>\n",
       "      <td>0.0</td>\n",
       "      <td>0</td>\n",
       "      <td>0</td>\n",
       "      <td>0</td>\n",
       "      <td>1</td>\n",
       "      <td>0</td>\n",
       "      <td>1</td>\n",
       "    </tr>\n",
       "    <tr>\n",
       "      <th>3</th>\n",
       "      <td>107</td>\n",
       "      <td>3</td>\n",
       "      <td>-6.2</td>\n",
       "      <td>40</td>\n",
       "      <td>0.9</td>\n",
       "      <td>2000</td>\n",
       "      <td>0.0</td>\n",
       "      <td>0.0</td>\n",
       "      <td>0.0</td>\n",
       "      <td>0</td>\n",
       "      <td>0</td>\n",
       "      <td>0</td>\n",
       "      <td>1</td>\n",
       "      <td>0</td>\n",
       "      <td>1</td>\n",
       "    </tr>\n",
       "    <tr>\n",
       "      <th>4</th>\n",
       "      <td>78</td>\n",
       "      <td>4</td>\n",
       "      <td>-6.0</td>\n",
       "      <td>36</td>\n",
       "      <td>2.3</td>\n",
       "      <td>2000</td>\n",
       "      <td>0.0</td>\n",
       "      <td>0.0</td>\n",
       "      <td>0.0</td>\n",
       "      <td>0</td>\n",
       "      <td>0</td>\n",
       "      <td>0</td>\n",
       "      <td>1</td>\n",
       "      <td>0</td>\n",
       "      <td>1</td>\n",
       "    </tr>\n",
       "  </tbody>\n",
       "</table>\n",
       "</div>"
      ],
      "text/plain": [
       "   Count  Hour  Tem  Hum  Wind   Vis  Sol  Rain  Snow  Seasons_Autumn  \\\n",
       "0    254     0 -5.2   37   2.2  2000  0.0   0.0   0.0               0   \n",
       "1    204     1 -5.5   38   0.8  2000  0.0   0.0   0.0               0   \n",
       "2    173     2 -6.0   39   1.0  2000  0.0   0.0   0.0               0   \n",
       "3    107     3 -6.2   40   0.9  2000  0.0   0.0   0.0               0   \n",
       "4     78     4 -6.0   36   2.3  2000  0.0   0.0   0.0               0   \n",
       "\n",
       "   Seasons_Spring  Seasons_Summer  Seasons_Winter  Holiday_Holiday  \\\n",
       "0               0               0               1                0   \n",
       "1               0               0               1                0   \n",
       "2               0               0               1                0   \n",
       "3               0               0               1                0   \n",
       "4               0               0               1                0   \n",
       "\n",
       "   Holiday_No Holiday  \n",
       "0                   1  \n",
       "1                   1  \n",
       "2                   1  \n",
       "3                   1  \n",
       "4                   1  "
      ]
     },
     "execution_count": 30,
     "metadata": {},
     "output_type": "execute_result"
    }
   ],
   "source": [
    "#Encode the categorical features to numeric by getting dummy variables\n",
    "\n",
    "df = pd.get_dummies(df)\n",
    "df.head()"
   ]
  },
  {
   "cell_type": "markdown",
   "id": "40f71290",
   "metadata": {},
   "source": [
    "- Categorical features, Seasons and Holiday, are turned to dummy numeric variables"
   ]
  },
  {
   "cell_type": "markdown",
   "id": "054b2cc5",
   "metadata": {},
   "source": [
    "### features and Target variable "
   ]
  },
  {
   "cell_type": "code",
   "execution_count": 31,
   "id": "951ccc89",
   "metadata": {},
   "outputs": [],
   "source": [
    "X = df.drop('Count',axis=1)\n",
    "y = df['Count']"
   ]
  },
  {
   "cell_type": "markdown",
   "id": "f45ee753",
   "metadata": {},
   "source": [
    "### Normalization of features"
   ]
  },
  {
   "cell_type": "markdown",
   "id": "25e598d2",
   "metadata": {},
   "source": [
    "- Normalization of features is the process of scaling the values of different features of a dataset to a common scale, typically between 0 and 1 or -1 and 1. This is done to ensure that each feature contributes equally to the analysis and to prevent features with larger values from dominating the analysis.\n",
    "\n",
    "- Normalization is particularly important in machine learning algorithms that use distance-based metrics, such as k-nearest neighbors or clustering, because features with larger values will dominate the distance calculation. By normalizing the features, we can ensure that all features contribute equally to the distance calculation.\n",
    "\n",
    "- There are several ways to normalize features, including min-max scaling, z-score scaling, and log scaling. Min-max scaling involves scaling the values to a range between 0 and 1 based on the minimum and maximum values of the feature"
   ]
  },
  {
   "cell_type": "code",
   "execution_count": 32,
   "id": "d3e5df99",
   "metadata": {},
   "outputs": [],
   "source": [
    "# create a MinMaxScaler object\n",
    "scaler = MinMaxScaler()\n",
    "\n",
    "# fit and transform the data frame\n",
    "normalized_data = scaler.fit_transform(X)\n",
    "\n",
    "# create a new data frame with the normalized data\n",
    "X = pd.DataFrame(normalized_data, columns=X.columns)"
   ]
  },
  {
   "cell_type": "code",
   "execution_count": 33,
   "id": "82476e65",
   "metadata": {
    "scrolled": true
   },
   "outputs": [
    {
     "data": {
      "text/html": [
       "<div>\n",
       "<style scoped>\n",
       "    .dataframe tbody tr th:only-of-type {\n",
       "        vertical-align: middle;\n",
       "    }\n",
       "\n",
       "    .dataframe tbody tr th {\n",
       "        vertical-align: top;\n",
       "    }\n",
       "\n",
       "    .dataframe thead th {\n",
       "        text-align: right;\n",
       "    }\n",
       "</style>\n",
       "<table border=\"1\" class=\"dataframe\">\n",
       "  <thead>\n",
       "    <tr style=\"text-align: right;\">\n",
       "      <th></th>\n",
       "      <th>Hour</th>\n",
       "      <th>Tem</th>\n",
       "      <th>Hum</th>\n",
       "      <th>Wind</th>\n",
       "      <th>Vis</th>\n",
       "      <th>Sol</th>\n",
       "      <th>Rain</th>\n",
       "      <th>Snow</th>\n",
       "      <th>Seasons_Autumn</th>\n",
       "      <th>Seasons_Spring</th>\n",
       "      <th>Seasons_Summer</th>\n",
       "      <th>Seasons_Winter</th>\n",
       "      <th>Holiday_Holiday</th>\n",
       "      <th>Holiday_No Holiday</th>\n",
       "    </tr>\n",
       "  </thead>\n",
       "  <tbody>\n",
       "    <tr>\n",
       "      <th>0</th>\n",
       "      <td>0.000000</td>\n",
       "      <td>0.220280</td>\n",
       "      <td>0.377551</td>\n",
       "      <td>0.297297</td>\n",
       "      <td>1.0</td>\n",
       "      <td>0.0</td>\n",
       "      <td>0.0</td>\n",
       "      <td>0.0</td>\n",
       "      <td>0.0</td>\n",
       "      <td>0.0</td>\n",
       "      <td>0.0</td>\n",
       "      <td>1.0</td>\n",
       "      <td>0.0</td>\n",
       "      <td>1.0</td>\n",
       "    </tr>\n",
       "    <tr>\n",
       "      <th>1</th>\n",
       "      <td>0.043478</td>\n",
       "      <td>0.215035</td>\n",
       "      <td>0.387755</td>\n",
       "      <td>0.108108</td>\n",
       "      <td>1.0</td>\n",
       "      <td>0.0</td>\n",
       "      <td>0.0</td>\n",
       "      <td>0.0</td>\n",
       "      <td>0.0</td>\n",
       "      <td>0.0</td>\n",
       "      <td>0.0</td>\n",
       "      <td>1.0</td>\n",
       "      <td>0.0</td>\n",
       "      <td>1.0</td>\n",
       "    </tr>\n",
       "    <tr>\n",
       "      <th>2</th>\n",
       "      <td>0.086957</td>\n",
       "      <td>0.206294</td>\n",
       "      <td>0.397959</td>\n",
       "      <td>0.135135</td>\n",
       "      <td>1.0</td>\n",
       "      <td>0.0</td>\n",
       "      <td>0.0</td>\n",
       "      <td>0.0</td>\n",
       "      <td>0.0</td>\n",
       "      <td>0.0</td>\n",
       "      <td>0.0</td>\n",
       "      <td>1.0</td>\n",
       "      <td>0.0</td>\n",
       "      <td>1.0</td>\n",
       "    </tr>\n",
       "    <tr>\n",
       "      <th>3</th>\n",
       "      <td>0.130435</td>\n",
       "      <td>0.202797</td>\n",
       "      <td>0.408163</td>\n",
       "      <td>0.121622</td>\n",
       "      <td>1.0</td>\n",
       "      <td>0.0</td>\n",
       "      <td>0.0</td>\n",
       "      <td>0.0</td>\n",
       "      <td>0.0</td>\n",
       "      <td>0.0</td>\n",
       "      <td>0.0</td>\n",
       "      <td>1.0</td>\n",
       "      <td>0.0</td>\n",
       "      <td>1.0</td>\n",
       "    </tr>\n",
       "    <tr>\n",
       "      <th>4</th>\n",
       "      <td>0.173913</td>\n",
       "      <td>0.206294</td>\n",
       "      <td>0.367347</td>\n",
       "      <td>0.310811</td>\n",
       "      <td>1.0</td>\n",
       "      <td>0.0</td>\n",
       "      <td>0.0</td>\n",
       "      <td>0.0</td>\n",
       "      <td>0.0</td>\n",
       "      <td>0.0</td>\n",
       "      <td>0.0</td>\n",
       "      <td>1.0</td>\n",
       "      <td>0.0</td>\n",
       "      <td>1.0</td>\n",
       "    </tr>\n",
       "  </tbody>\n",
       "</table>\n",
       "</div>"
      ],
      "text/plain": [
       "       Hour       Tem       Hum      Wind  Vis  Sol  Rain  Snow  \\\n",
       "0  0.000000  0.220280  0.377551  0.297297  1.0  0.0   0.0   0.0   \n",
       "1  0.043478  0.215035  0.387755  0.108108  1.0  0.0   0.0   0.0   \n",
       "2  0.086957  0.206294  0.397959  0.135135  1.0  0.0   0.0   0.0   \n",
       "3  0.130435  0.202797  0.408163  0.121622  1.0  0.0   0.0   0.0   \n",
       "4  0.173913  0.206294  0.367347  0.310811  1.0  0.0   0.0   0.0   \n",
       "\n",
       "   Seasons_Autumn  Seasons_Spring  Seasons_Summer  Seasons_Winter  \\\n",
       "0             0.0             0.0             0.0             1.0   \n",
       "1             0.0             0.0             0.0             1.0   \n",
       "2             0.0             0.0             0.0             1.0   \n",
       "3             0.0             0.0             0.0             1.0   \n",
       "4             0.0             0.0             0.0             1.0   \n",
       "\n",
       "   Holiday_Holiday  Holiday_No Holiday  \n",
       "0              0.0                 1.0  \n",
       "1              0.0                 1.0  \n",
       "2              0.0                 1.0  \n",
       "3              0.0                 1.0  \n",
       "4              0.0                 1.0  "
      ]
     },
     "execution_count": 33,
     "metadata": {},
     "output_type": "execute_result"
    }
   ],
   "source": [
    "X.head()"
   ]
  },
  {
   "cell_type": "code",
   "execution_count": 34,
   "id": "cbf61d90",
   "metadata": {},
   "outputs": [
    {
     "data": {
      "text/plain": [
       "0    254\n",
       "1    204\n",
       "2    173\n",
       "3    107\n",
       "4     78\n",
       "Name: Count, dtype: int64"
      ]
     },
     "execution_count": 34,
     "metadata": {},
     "output_type": "execute_result"
    }
   ],
   "source": [
    "y.head()"
   ]
  },
  {
   "cell_type": "markdown",
   "id": "0789fdbf",
   "metadata": {},
   "source": [
    "### Training and Testing Set"
   ]
  },
  {
   "cell_type": "code",
   "execution_count": 35,
   "id": "3f5c197e",
   "metadata": {},
   "outputs": [
    {
     "name": "stdout",
     "output_type": "stream",
     "text": [
      "(5925, 14) (2540, 14) (5925,) (2540,)\n"
     ]
    }
   ],
   "source": [
    "#Split the dataset into the train and test data\n",
    "X_train,X_test,y_train,y_test=train_test_split(X,y,test_size=0.3, random_state=42)\n",
    "\n",
    "print(X_train.shape,X_test.shape,y_train.shape,y_test.shape)"
   ]
  },
  {
   "cell_type": "markdown",
   "id": "714dd42c",
   "metadata": {},
   "source": [
    "## Modeling and Evaluation"
   ]
  },
  {
   "cell_type": "markdown",
   "id": "3cf7ba25",
   "metadata": {},
   "source": [
    "### Evaluation Metrics Description"
   ]
  },
  {
   "cell_type": "markdown",
   "id": "39e4b7af",
   "metadata": {},
   "source": [
    "- R-squared (R²) is a statistical metric that measures the proportion of the variation in the dependent variable that is explained by the independent variables in a regression model. It ranges between 0 and 1, where 1 indicates a perfect fit between the model and the data.\n",
    "\n",
    "- Adjusted R-squared (adjusted R²) is a modification of the R² metric that adjusts for the number of predictors in the model. It penalizes the R² value for including predictors that do not significantly improve the model's performance. This metric is particularly useful when comparing models with different numbers of predictors.\n",
    "\n",
    "- Mean squared error (MSE) is a metric that measures the average of the squared differences between the actual and predicted values in a regression model. It provides an estimate of the variance of the errors in the model and is useful in assessing the overall quality of the model's predictions.\n",
    "\n",
    "- Root mean squared error (RMSE) is the square root of the mean squared error and is a more interpretable measure of the error in the model's predictions. It is expressed in the same units as the dependent variable and provides an estimate of the average magnitude of the errors in the model. The lower the RMSE, the better the model's performance."
   ]
  },
  {
   "cell_type": "markdown",
   "id": "16e47c13",
   "metadata": {},
   "source": [
    "### Linear Regression"
   ]
  },
  {
   "cell_type": "code",
   "execution_count": 39,
   "id": "1aec6364",
   "metadata": {},
   "outputs": [
    {
     "name": "stdout",
     "output_type": "stream",
     "text": [
      "R^2 train: 0.5370050111572069\n",
      "R^2 test: 0.5513010287063553\n",
      "Adjusted R^2: 0.5488131928259153\n",
      "RMSE: 424.18641673411975\n"
     ]
    },
    {
     "data": {
      "image/png": "[encoded data removed]",
      "text/plain": [
       "<Figure size 432x288 with 1 Axes>"
      ]
     },
     "metadata": {
      "needs_background": "light"
     },
     "output_type": "display_data"
    }
   ],
   "source": [
    "LR = LinearRegression().fit(X_train,y_train)\n",
    "y_pred=LR.predict(X_test)\n",
    "plt.scatter(y_pred,y_test)\n",
    "plt.xlabel('Prediction')\n",
    "plt.ylabel('Actual')\n",
    "print(f'R^2 train: {LR.score(X_train,y_train)}\\nR^2 test: {LR.score(X_test,y_test)}\\nAdjusted R^2: {1-((1-LR.score(X_test,y_test))*(len(y_test)-1)/(len(y_test)-X_test.shape[1]-1))}\\nRMSE: {mean_squared_error(y_test,y_pred,squared=False)}')"
   ]
  },
  {
   "cell_type": "markdown",
   "id": "05c07ba3",
   "metadata": {},
   "source": [
    "This linear regression model has an R-squared value of 0.54 on the training data, which means that 54% of the variability in the target variable (rented bike count) can be explained by the predictor variables. The R-squared value on the test data is 0.55, which indicates that the model is generalizing well and is not overfitting to the training data. However, as both values are low, the model is underfitting.\n",
    "\n",
    "The adjusted R-squared value of 0.55 suggests that the model is performing reasonably well in accounting for the variance in the target variable.\n",
    "\n",
    "The root mean squared error (RMSE) of 424.19 indicates that the average difference between the predicted and actual values of the target variable is 424.19. This value can be used as a measure of the accuracy of the model. "
   ]
  },
  {
   "cell_type": "markdown",
   "id": "331a5464",
   "metadata": {},
   "source": [
    "### Decision Tree Regressor"
   ]
  },
  {
   "cell_type": "code",
   "execution_count": 59,
   "id": "d813fe37",
   "metadata": {},
   "outputs": [
    {
     "name": "stdout",
     "output_type": "stream",
     "text": [
      "R^2 train: 1.0\n",
      "R^2 test: 0.7689730817744211\n",
      "Adjusted R^2: 0.7676921404456456\n",
      "RMSE: 304.376075399481\n"
     ]
    },
    {
     "data": {
      "image/png": "[encoded data removed]",
      "text/plain": [
       "<Figure size 432x288 with 1 Axes>"
      ]
     },
     "metadata": {
      "needs_background": "light"
     },
     "output_type": "display_data"
    }
   ],
   "source": [
    "DTR = DecisionTreeRegressor().fit(X_train,y_train)\n",
    "y_pred=DTR.predict(X_test)\n",
    "plt.scatter(y_pred,y_test)\n",
    "plt.xlabel('Prediction')\n",
    "plt.ylabel('Actual')\n",
    "print(f'R^2 train: {DTR.score(X_train,y_train)}\\nR^2 test: {DTR.score(X_test,y_test)}\\nAdjusted R^2: {1-((1-DTR.score(X_test,y_test))*(len(y_test)-1)/(len(y_test)-X_test.shape[1]-1))}\\nRMSE: {mean_squared_error(y_test,y_pred,squared=False)}')"
   ]
  },
  {
   "cell_type": "markdown",
   "id": "49cf3571",
   "metadata": {},
   "source": [
    "The decision tree regressor model seems to be overfitting, as it has a perfect R^2 score on the training set but a lower R^2 score on the test set compared to the linear regression model.\n",
    "\n",
    "The R^2 score for the test set is 0.767, which indicates that the model explains about 77% of the variance in the target variable. However, the adjusted R^2 score is slightly lower than the linear regression model, which means that the decision tree model may not be as good at accounting for the number of predictors in the model.\n",
    "\n",
    "The RMSE for the decision tree model is lower than the linear regression model, which indicates that the decision tree model has a better predictive performance on the test set.\n",
    "\n",
    "Overall, the decision tree model may perform better on the test set, but it is important to be cautious about overfitting and carefully tune the hyperparameters to improve the generalization performance of the model."
   ]
  },
  {
   "cell_type": "markdown",
   "id": "c19bca0b",
   "metadata": {},
   "source": [
    "### Random Forest Regressor"
   ]
  },
  {
   "cell_type": "code",
   "execution_count": 41,
   "id": "12c17a5b",
   "metadata": {},
   "outputs": [
    {
     "name": "stdout",
     "output_type": "stream",
     "text": [
      "R^2 train: 0.9814799589680446\n",
      "R^2 test: 0.8651382782637775\n",
      "Adjusted R^2: 0.8643905301036559\n",
      "RMSE: 232.55386964319388\n"
     ]
    },
    {
     "data": {
      "image/png": "[encoded data removed]",
      "text/plain": [
       "<Figure size 432x288 with 1 Axes>"
      ]
     },
     "metadata": {
      "needs_background": "light"
     },
     "output_type": "display_data"
    }
   ],
   "source": [
    "RFR = RandomForestRegressor().fit(X_train,y_train)\n",
    "y_pred=RFR.predict(X_test)\n",
    "plt.scatter(y_pred,y_test)\n",
    "plt.xlabel('Prediction')\n",
    "plt.ylabel('Actual')\n",
    "print(f'R^2 train: {RFR.score(X_train,y_train)}\\nR^2 test: {RFR.score(X_test,y_test)}\\nAdjusted R^2: {1-((1-RFR.score(X_test,y_test))*(len(y_test)-1)/(len(y_test)-X_test.shape[1]-1))}\\nRMSE: {mean_squared_error(y_test,y_pred,squared=False)}')"
   ]
  },
  {
   "cell_type": "markdown",
   "id": "a242f747",
   "metadata": {},
   "source": [
    "The Random Forest regressor model outperformed the linear and decision tree models with the highest R^2 value of 0.8651 and the lowest RMSE value of 232.55.\n",
    "\n",
    "The R^2 value of the Random Forest model is much higher than the linear and decision tree models, indicating that the Random Forest model explains more of the variance in the data. The RMSE value of the Random Forest model is also much lower than the linear and decision tree models, indicating that the Random Forest model has a smaller error between predicted values and actual values.\n",
    "\n",
    "Overall, the Random Forest model seems to be the better model in comparison two Linear and Decision Tree Regressor Model. But it steel suffer from overfitting the train data "
   ]
  },
  {
   "cell_type": "markdown",
   "id": "6be13bf5",
   "metadata": {},
   "source": [
    "### Gradient Boosting Regressor"
   ]
  },
  {
   "cell_type": "code",
   "execution_count": 43,
   "id": "cf0f36f4",
   "metadata": {},
   "outputs": [
    {
     "name": "stdout",
     "output_type": "stream",
     "text": [
      "R^2 train: 0.8658705224834695\n",
      "R^2 test: 0.8432328028573696\n",
      "Adjusted R^2: 0.8423635985959848\n",
      "RMSE: 250.7302982862721\n"
     ]
    },
    {
     "data": {
      "image/png": "[encoded data removed]",
      "text/plain": [
       "<Figure size 432x288 with 1 Axes>"
      ]
     },
     "metadata": {
      "needs_background": "light"
     },
     "output_type": "display_data"
    }
   ],
   "source": [
    "GBR = GradientBoostingRegressor().fit(X_train,y_train)\n",
    "y_pred=GBR.predict(X_test)\n",
    "plt.scatter(y_pred,y_test)\n",
    "plt.xlabel('Prediction')\n",
    "plt.ylabel('Actual')\n",
    "print(f'R^2 train: {GBR.score(X_train,y_train)}\\nR^2 test: {GBR.score(X_test,y_test)}\\nAdjusted R^2: {1-((1-GBR.score(X_test,y_test))*(len(y_test)-1)/(len(y_test)-X_test.shape[1]-1))}\\nRMSE: {mean_squared_error(y_test,y_pred,squared=False)}')"
   ]
  },
  {
   "cell_type": "markdown",
   "id": "26fd10a7",
   "metadata": {},
   "source": [
    "The Gradient Boosting Regressor achieved an R^2 score of 0.866 on the training data and 0.843 on the test data, indicating good performance. The Adjusted R^2 score was 0.842, and the RMSE was 250.735. Compared to the other models, the Random Forest Regressor performed the best, followed by the Gradient Boosting Regressor, while the Linear Regression and Decision Tree Regressor had the lowest performance scores."
   ]
  },
  {
   "cell_type": "code",
   "execution_count": 62,
   "id": "233df030",
   "metadata": {},
   "outputs": [
    {
     "name": "stdout",
     "output_type": "stream",
     "text": [
      "R^2 train: 0.8601565992495329\n",
      "R^2 test: 0.7971420014528399\n",
      "Adjusted R^2: 0.7960172442331724\n",
      "RMSE: 285.2169219505202\n"
     ]
    },
    {
     "data": {
      "image/png": "[encoded data removed]",
      "text/plain": [
       "<Figure size 432x288 with 1 Axes>"
      ]
     },
     "metadata": {
      "needs_background": "light"
     },
     "output_type": "display_data"
    }
   ],
   "source": [
    "KNR = KNeighborsRegressor().fit(X_train,y_train)\n",
    "y_pred=KNR.predict(X_test)\n",
    "plt.scatter(y_pred,y_test)\n",
    "plt.xlabel('Prediction')\n",
    "plt.ylabel('Actual')\n",
    "print(f'R^2 train: {KNR.score(X_train,y_train)}\\nR^2 test: {KNR.score(X_test,y_test)}\\nAdjusted R^2: {1-((1-KNR.score(X_test,y_test))*(len(y_test)-1)/(len(y_test)-X_test.shape[1]-1))}\\nRMSE: {mean_squared_error(y_test,y_pred,squared=False)}')"
   ]
  },
  {
   "cell_type": "markdown",
   "id": "b83d982e",
   "metadata": {},
   "source": [
    " ## HyperParameter Tuning"
   ]
  },
  {
   "cell_type": "markdown",
   "id": "9c0d5d69",
   "metadata": {},
   "source": [
    "- Hyperparameter tuning is the process of finding the best set of hyperparameters for a machine learning model to achieve optimal performance. This involves searching through a range of hyperparameters and selecting the combination that yields the best results. Grid search, random search, and Bayesian optimization are popular methods for hyperparameter tuning.\n",
    "- Grid search cross-validation is a method used to select the best hyperparameters for a machine learning model. It involves creating a grid of hyperparameter combinations and training and evaluating the model using each combination through cross-validation.\n",
    "\n",
    "- The cross-validation step helps to prevent overfitting and provides an estimate of the model's performance on unseen data. The hyperparameter combination with the best performance score is selected as the optimal hyperparameters for the model."
   ]
  },
  {
   "cell_type": "markdown",
   "id": "f802ac07",
   "metadata": {},
   "source": [
    "### Grid Search Cross-Validation"
   ]
  },
  {
   "cell_type": "code",
   "execution_count": null,
   "id": "0e6e6d41",
   "metadata": {},
   "outputs": [],
   "source": []
  },
  {
   "cell_type": "code",
   "execution_count": null,
   "id": "789d3122",
   "metadata": {},
   "outputs": [],
   "source": []
  }
 ],
 "metadata": {
  "celltoolbar": "Raw Cell Format",
  "kernelspec": {
   "display_name": "Python 3 (ipykernel)",
   "language": "python",
   "name": "python3"
  },
  "language_info": {
   "codemirror_mode": {
    "name": "ipython",
    "version": 3
   },
   "file_extension": ".py",
   "mimetype": "text/x-python",
   "name": "python",
   "nbconvert_exporter": "python",
   "pygments_lexer": "ipython3",
   "version": "3.9.7"
  },
  "toc": {
   "base_numbering": 1,
   "nav_menu": {},
   "number_sections": true,
   "sideBar": true,
   "skip_h1_title": false,
   "title_cell": "Table of Contents",
   "title_sidebar": "Contents",
   "toc_cell": false,
   "toc_position": {
    "height": "calc(100% - 180px)",
    "left": "10px",
    "top": "150px",
    "width": "307.2px"
   },
   "toc_section_display": true,
   "toc_window_display": true
  }
 },
 "nbformat": 4,
 "nbformat_minor": 5
}
